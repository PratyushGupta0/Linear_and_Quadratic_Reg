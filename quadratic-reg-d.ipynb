{
 "cells": [
  {
   "cell_type": "code",
   "execution_count": 1,
   "id": "f1a8eb96",
   "metadata": {
    "_cell_guid": "b1076dfc-b9ad-4769-8c92-a6c4dae69d19",
    "_uuid": "8f2839f25d086af736a60e9eeb907d3b93b6e0e5",
    "execution": {
     "iopub.execute_input": "2021-08-19T09:55:32.741551Z",
     "iopub.status.busy": "2021-08-19T09:55:32.739832Z",
     "iopub.status.idle": "2021-08-19T09:55:32.769781Z",
     "shell.execute_reply": "2021-08-19T09:55:32.769127Z",
     "shell.execute_reply.started": "2021-08-18T16:10:18.160623Z"
    },
    "papermill": {
     "duration": 0.048647,
     "end_time": "2021-08-19T09:55:32.769952",
     "exception": false,
     "start_time": "2021-08-19T09:55:32.721305",
     "status": "completed"
    },
    "tags": []
   },
   "outputs": [
    {
     "name": "stdout",
     "output_type": "stream",
     "text": [
      "/kaggle/input/red-wine-quality-cortez-et-al-2009/winequality-red.csv\n"
     ]
    }
   ],
   "source": [
    "# This Python 3 environment comes with many helpful analytics libraries installed\n",
    "# It is defined by the kaggle/python Docker image: https://github.com/kaggle/docker-python\n",
    "# For example, here's several helpful packages to load\n",
    "\n",
    "import numpy as np # linear algebra\n",
    "import pandas as pd # data processing, CSV file I/O (e.g. pd.read_csv)\n",
    "import matplotlib.pyplot as plt\n",
    "\n",
    "# Input data files are available in the read-only \"../input/\" directory\n",
    "# For example, running this (by clicking run or pressing Shift+Enter) will list all files under the input directory\n",
    "\n",
    "import os\n",
    "for dirname, _, filenames in os.walk('/kaggle/input'):\n",
    "    for filename in filenames:\n",
    "        print(os.path.join(dirname, filename))\n",
    "\n",
    "# You can write up to 20GB to the current directory (/kaggle/working/) that gets preserved as output when you create a version using \"Save & Run All\" \n",
    "# You can also write temporary files to /kaggle/temp/, but they won't be saved outside of the current session"
   ]
  },
  {
   "cell_type": "code",
   "execution_count": 2,
   "id": "05de0fca",
   "metadata": {
    "execution": {
     "iopub.execute_input": "2021-08-19T09:55:32.804307Z",
     "iopub.status.busy": "2021-08-19T09:55:32.803601Z",
     "iopub.status.idle": "2021-08-19T09:55:32.806073Z",
     "shell.execute_reply": "2021-08-19T09:55:32.806550Z",
     "shell.execute_reply.started": "2021-08-18T16:10:52.299233Z"
    },
    "papermill": {
     "duration": 0.020304,
     "end_time": "2021-08-19T09:55:32.806708",
     "exception": false,
     "start_time": "2021-08-19T09:55:32.786404",
     "status": "completed"
    },
    "tags": []
   },
   "outputs": [],
   "source": [
    "M=1200\n",
    "EPOCHS=20000\n",
    "num_features=11\n",
    "learning_rate=0.0000000001"
   ]
  },
  {
   "cell_type": "code",
   "execution_count": 3,
   "id": "e5afbda0",
   "metadata": {
    "execution": {
     "iopub.execute_input": "2021-08-19T09:55:32.841437Z",
     "iopub.status.busy": "2021-08-19T09:55:32.838858Z",
     "iopub.status.idle": "2021-08-19T09:55:32.845002Z",
     "shell.execute_reply": "2021-08-19T09:55:32.845756Z",
     "shell.execute_reply.started": "2021-08-18T16:10:56.354503Z"
    },
    "papermill": {
     "duration": 0.025594,
     "end_time": "2021-08-19T09:55:32.846031",
     "exception": false,
     "start_time": "2021-08-19T09:55:32.820437",
     "status": "completed"
    },
    "tags": []
   },
   "outputs": [],
   "source": [
    "x_train=np.random.randn(num_features,1200)\n",
    "W1_act=np.random.randn(num_features,1)\n",
    "W2_act=np.random.randn(num_features,1)\n",
    "b_act=np.random.randn(1,1)\n",
    "y_train=np.dot(W1_act.T,x_train)+b_act+np.dot(W2_act.T,x_train**2)"
   ]
  },
  {
   "cell_type": "code",
   "execution_count": 4,
   "id": "9a27557e",
   "metadata": {
    "execution": {
     "iopub.execute_input": "2021-08-19T09:55:32.903695Z",
     "iopub.status.busy": "2021-08-19T09:55:32.902548Z",
     "iopub.status.idle": "2021-08-19T09:55:32.905439Z",
     "shell.execute_reply": "2021-08-19T09:55:32.904603Z",
     "shell.execute_reply.started": "2021-08-18T16:10:59.295313Z"
    },
    "papermill": {
     "duration": 0.035547,
     "end_time": "2021-08-19T09:55:32.905643",
     "exception": false,
     "start_time": "2021-08-19T09:55:32.870096",
     "status": "completed"
    },
    "tags": []
   },
   "outputs": [],
   "source": [
    "def compute_loss(y, y_pred):\n",
    "    loss = 1 / 2 * np.mean((y_pred - y)**2)\n",
    "    return loss"
   ]
  },
  {
   "cell_type": "code",
   "execution_count": 5,
   "id": "a1a3ffd4",
   "metadata": {
    "execution": {
     "iopub.execute_input": "2021-08-19T09:55:32.959426Z",
     "iopub.status.busy": "2021-08-19T09:55:32.958437Z",
     "iopub.status.idle": "2021-08-19T09:55:32.960854Z",
     "shell.execute_reply": "2021-08-19T09:55:32.961456Z",
     "shell.execute_reply.started": "2021-08-18T16:11:01.195681Z"
    },
    "papermill": {
     "duration": 0.032374,
     "end_time": "2021-08-19T09:55:32.961618",
     "exception": false,
     "start_time": "2021-08-19T09:55:32.929244",
     "status": "completed"
    },
    "tags": []
   },
   "outputs": [],
   "source": [
    "def derivative(y_true,y_pred):\n",
    "    signum=np.sign(y_pred-y_true)\n",
    "    derivative=np.multiply(signum,7*(y_pred-y_true)**6)\n",
    "    return derivative"
   ]
  },
  {
   "cell_type": "code",
   "execution_count": 6,
   "id": "a55bd2f1",
   "metadata": {
    "execution": {
     "iopub.execute_input": "2021-08-19T09:55:32.994095Z",
     "iopub.status.busy": "2021-08-19T09:55:32.993083Z",
     "iopub.status.idle": "2021-08-19T09:55:32.996084Z",
     "shell.execute_reply": "2021-08-19T09:55:32.995535Z",
     "shell.execute_reply.started": "2021-08-18T16:11:03.283984Z"
    },
    "papermill": {
     "duration": 0.020973,
     "end_time": "2021-08-19T09:55:32.996225",
     "exception": false,
     "start_time": "2021-08-19T09:55:32.975252",
     "status": "completed"
    },
    "tags": []
   },
   "outputs": [],
   "source": [
    "def second_input(x_train):\n",
    "    return x_train**2\n",
    "squared=second_input(x_train)"
   ]
  },
  {
   "cell_type": "code",
   "execution_count": 7,
   "id": "fb9b5e43",
   "metadata": {
    "execution": {
     "iopub.execute_input": "2021-08-19T09:55:33.028214Z",
     "iopub.status.busy": "2021-08-19T09:55:33.027539Z",
     "iopub.status.idle": "2021-08-19T09:55:33.030314Z",
     "shell.execute_reply": "2021-08-19T09:55:33.029782Z",
     "shell.execute_reply.started": "2021-08-18T16:11:04.768716Z"
    },
    "papermill": {
     "duration": 0.020698,
     "end_time": "2021-08-19T09:55:33.030451",
     "exception": false,
     "start_time": "2021-08-19T09:55:33.009753",
     "status": "completed"
    },
    "tags": []
   },
   "outputs": [],
   "source": [
    "W1=np.random.randn(num_features,1)\n",
    "W2=np.random.randn(num_features,1)\n",
    "b=np.random.randn(1,1)"
   ]
  },
  {
   "cell_type": "code",
   "execution_count": 8,
   "id": "c7379f76",
   "metadata": {
    "execution": {
     "iopub.execute_input": "2021-08-19T09:55:33.065157Z",
     "iopub.status.busy": "2021-08-19T09:55:33.064387Z",
     "iopub.status.idle": "2021-08-19T09:55:41.252945Z",
     "shell.execute_reply": "2021-08-19T09:55:41.253810Z",
     "shell.execute_reply.started": "2021-08-18T16:11:10.400327Z"
    },
    "papermill": {
     "duration": 8.210136,
     "end_time": "2021-08-19T09:55:41.254081",
     "exception": false,
     "start_time": "2021-08-19T09:55:33.043945",
     "status": "completed"
    },
    "tags": []
   },
   "outputs": [],
   "source": [
    "#The first training loop with the smallest of the learning rates\n",
    "losses=[]\n",
    "for i in range(0,EPOCHS):\n",
    "        preds=np.dot(W1.T,x_train)+np.dot(W2.T,squared)+b\n",
    "        dZ=derivative(y_train,preds)\n",
    "        #print(y_train.shape)\n",
    "        #print(x_train.shape)\n",
    "        W1_grad=((np.dot(x_train,dZ.T)))/M\n",
    "        W2_grad=((np.dot(squared,dZ.T)))/M\n",
    "        #print(W_grad)\n",
    "        b_grad=(1/M)*(np.sum(dZ))\n",
    "       # print(b_grad)\n",
    "        W1=W1-learning_rate*W1_grad\n",
    "        W2=W2-learning_rate*W2_grad\n",
    "        b=b-learning_rate*b_grad\n",
    "        loss=compute_loss(y_train,preds)\n",
    "        losses.append(loss)"
   ]
  },
  {
   "cell_type": "code",
   "execution_count": 9,
   "id": "a1fd35f6",
   "metadata": {
    "execution": {
     "iopub.execute_input": "2021-08-19T09:55:41.316373Z",
     "iopub.status.busy": "2021-08-19T09:55:41.315273Z",
     "iopub.status.idle": "2021-08-19T09:55:45.233234Z",
     "shell.execute_reply": "2021-08-19T09:55:45.234104Z",
     "shell.execute_reply.started": "2021-08-18T16:11:46.533302Z"
    },
    "papermill": {
     "duration": 3.955188,
     "end_time": "2021-08-19T09:55:45.234370",
     "exception": false,
     "start_time": "2021-08-19T09:55:41.279182",
     "status": "completed"
    },
    "tags": []
   },
   "outputs": [],
   "source": [
    "#Further training takes place at a higher learning rate\n",
    "for i in range(0,10000):\n",
    "        preds=np.dot(W1.T,x_train)+np.dot(W2.T,squared)+b\n",
    "        dZ=derivative(y_train,preds)\n",
    "        #print(y_train.shape)\n",
    "        #print(x_train.shape)\n",
    "        W1_grad=((np.dot(x_train,dZ.T)))/M\n",
    "        W2_grad=((np.dot(squared,dZ.T)))/M\n",
    "        #print(W_grad)\n",
    "        b_grad=(1/M)*(np.sum(dZ))\n",
    "       # print(b_grad)\n",
    "        W1=W1-learning_rate*1000*W1_grad\n",
    "        W2=W2-learning_rate*1000*W2_grad\n",
    "        b=b-learning_rate*1000*b_grad\n",
    "        loss=compute_loss(y_train,preds)\n",
    "        losses.append(loss)"
   ]
  },
  {
   "cell_type": "code",
   "execution_count": 10,
   "id": "628d610a",
   "metadata": {
    "execution": {
     "iopub.execute_input": "2021-08-19T09:55:45.290859Z",
     "iopub.status.busy": "2021-08-19T09:55:45.289764Z",
     "iopub.status.idle": "2021-08-19T09:55:47.094918Z",
     "shell.execute_reply": "2021-08-19T09:55:47.095743Z",
     "shell.execute_reply.started": "2021-08-18T16:13:31.242369Z"
    },
    "papermill": {
     "duration": 1.8385,
     "end_time": "2021-08-19T09:55:47.096005",
     "exception": false,
     "start_time": "2021-08-19T09:55:45.257505",
     "status": "completed"
    },
    "tags": []
   },
   "outputs": [],
   "source": [
    "#Even more training at a higher learning rate\n",
    "for i in range(0,5000):\n",
    "        preds=np.dot(W1.T,x_train)+np.dot(W2.T,squared)+b\n",
    "        dZ=derivative(y_train,preds)\n",
    "        #print(y_train.shape)\n",
    "        #print(x_train.shape)\n",
    "        W1_grad=((np.dot(x_train,dZ.T)))/M\n",
    "        W2_grad=((np.dot(squared,dZ.T)))/M\n",
    "        #print(W_grad)\n",
    "        b_grad=(1/M)*(np.sum(dZ))\n",
    "       # print(b_grad)\n",
    "        W1=W1-learning_rate*100000*W1_grad\n",
    "        W2=W2-learning_rate*100000*W2_grad\n",
    "        b=b-learning_rate*100000*b_grad\n",
    "        loss=compute_loss(y_train,preds)\n",
    "        losses.append(loss)"
   ]
  },
  {
   "cell_type": "code",
   "execution_count": 11,
   "id": "b0f01095",
   "metadata": {
    "execution": {
     "iopub.execute_input": "2021-08-19T09:55:47.155650Z",
     "iopub.status.busy": "2021-08-19T09:55:47.154648Z",
     "iopub.status.idle": "2021-08-19T09:55:47.439615Z",
     "shell.execute_reply": "2021-08-19T09:55:47.440105Z",
     "shell.execute_reply.started": "2021-08-18T16:13:35.652552Z"
    },
    "papermill": {
     "duration": 0.319613,
     "end_time": "2021-08-19T09:55:47.440274",
     "exception": false,
     "start_time": "2021-08-19T09:55:47.120661",
     "status": "completed"
    },
    "tags": []
   },
   "outputs": [
    {
     "data": {
      "image/png": "[encoded data removed]",
      "text/plain": [
       "<Figure size 432x288 with 1 Axes>"
      ]
     },
     "metadata": {
      "needs_background": "light"
     },
     "output_type": "display_data"
    }
   ],
   "source": [
    "x=list(range(1,EPOCHS+1+15000))\n",
    "y=losses\n",
    "plt.plot(x, y)\n",
    "plt.xlabel('x - axis')\n",
    "plt.ylabel('y - axis')\n",
    "plt.title('Loss as function of Epochs')\n",
    "plt.show()"
   ]
  },
  {
   "cell_type": "code",
   "execution_count": 12,
   "id": "c48a3126",
   "metadata": {
    "execution": {
     "iopub.execute_input": "2021-08-19T09:55:47.474409Z",
     "iopub.status.busy": "2021-08-19T09:55:47.473590Z",
     "iopub.status.idle": "2021-08-19T09:55:47.477464Z",
     "shell.execute_reply": "2021-08-19T09:55:47.476922Z",
     "shell.execute_reply.started": "2021-08-18T16:13:39.276122Z"
    },
    "papermill": {
     "duration": 0.023185,
     "end_time": "2021-08-19T09:55:47.477602",
     "exception": false,
     "start_time": "2021-08-19T09:55:47.454417",
     "status": "completed"
    },
    "tags": []
   },
   "outputs": [
    {
     "data": {
      "text/plain": [
       "0.20997887951820496"
      ]
     },
     "execution_count": 12,
     "metadata": {},
     "output_type": "execute_result"
    }
   ],
   "source": [
    "losses[-1]"
   ]
  },
  {
   "cell_type": "code",
   "execution_count": 13,
   "id": "b28e5aa9",
   "metadata": {
    "execution": {
     "iopub.execute_input": "2021-08-19T09:55:47.536005Z",
     "iopub.status.busy": "2021-08-19T09:55:47.516592Z",
     "iopub.status.idle": "2021-08-19T09:55:47.640749Z",
     "shell.execute_reply": "2021-08-19T09:55:47.639870Z",
     "shell.execute_reply.started": "2021-08-18T16:13:40.954086Z"
    },
    "papermill": {
     "duration": 0.148657,
     "end_time": "2021-08-19T09:55:47.640892",
     "exception": false,
     "start_time": "2021-08-19T09:55:47.492235",
     "status": "completed"
    },
    "tags": []
   },
   "outputs": [
    {
     "data": {
      "image/png": "[encoded data removed]",
      "text/plain": [
       "<Figure size 432x288 with 1 Axes>"
      ]
     },
     "metadata": {
      "needs_background": "light"
     },
     "output_type": "display_data"
    }
   ],
   "source": [
    "#A plot of actual weights against trainable weights. Actual weights are in  red and trainable weights in blue.\n",
    "\n",
    "x=list(range(1,11+1))\n",
    "plt.plot(x, W1_act.tolist(), 'r') \n",
    "plt.plot(x, W1.tolist(), 'b')  \n",
    "plt.show()"
   ]
  },
  {
   "cell_type": "code",
   "execution_count": 14,
   "id": "83867446",
   "metadata": {
    "execution": {
     "iopub.execute_input": "2021-08-19T09:55:47.675116Z",
     "iopub.status.busy": "2021-08-19T09:55:47.674493Z",
     "iopub.status.idle": "2021-08-19T09:55:47.784325Z",
     "shell.execute_reply": "2021-08-19T09:55:47.784789Z",
     "shell.execute_reply.started": "2021-08-18T16:13:43.513557Z"
    },
    "papermill": {
     "duration": 0.128473,
     "end_time": "2021-08-19T09:55:47.784949",
     "exception": false,
     "start_time": "2021-08-19T09:55:47.656476",
     "status": "completed"
    },
    "tags": []
   },
   "outputs": [
    {
     "data": {
      "image/png": "[encoded data removed]",
      "text/plain": [
       "<Figure size 432x288 with 1 Axes>"
      ]
     },
     "metadata": {
      "needs_background": "light"
     },
     "output_type": "display_data"
    }
   ],
   "source": [
    "#A plot of actual weights against trainable weights. Actual weights are in  red and trainable weights in blue.\n",
    "\n",
    "x=list(range(1,11+1))\n",
    "plt.plot(x, W2_act.tolist(), 'r') \n",
    "plt.plot(x, W2.tolist(), 'b') \n",
    "plt.show()"
   ]
  },
  {
   "cell_type": "code",
   "execution_count": 15,
   "id": "5597f0f4",
   "metadata": {
    "execution": {
     "iopub.execute_input": "2021-08-19T09:55:47.820216Z",
     "iopub.status.busy": "2021-08-19T09:55:47.819622Z",
     "iopub.status.idle": "2021-08-19T09:55:47.822456Z",
     "shell.execute_reply": "2021-08-19T09:55:47.822929Z"
    },
    "papermill": {
     "duration": 0.022037,
     "end_time": "2021-08-19T09:55:47.823110",
     "exception": false,
     "start_time": "2021-08-19T09:55:47.801073",
     "status": "completed"
    },
    "tags": []
   },
   "outputs": [],
   "source": [
    "# Due to the very high exponent , the gradients are very unstable and can often explode, hence requiring a low learining rate.\n",
    "# Similiarly this loss faces great problems with vanishing gradients. This problem was quite severein this case. In the loss\n",
    "# graph we can observe a major hump. This is at the start of the second training loop which works at a learning rate, then\n",
    "# there is another smaller hump , further ahead which is due to the third training loop. The deviations in the true and\n",
    "# trainable weights are more significant here than anywhere else despite more training and baby-sitting."
   ]
  }
 ],
 "metadata": {
  "kernelspec": {
   "display_name": "Python 3",
   "language": "python",
   "name": "python3"
  },
  "language_info": {
   "codemirror_mode": {
    "name": "ipython",
    "version": 3
   },
   "file_extension": ".py",
   "mimetype": "text/x-python",
   "name": "python",
   "nbconvert_exporter": "python",
   "pygments_lexer": "ipython3",
   "version": "3.7.10"
  },
  "papermill": {
   "default_parameters": {},
   "duration": 23.496802,
   "end_time": "2021-08-19T09:55:48.448746",
   "environment_variables": {},
   "exception": null,
   "input_path": "__notebook__.ipynb",
   "output_path": "__notebook__.ipynb",
   "parameters": {},
   "start_time": "2021-08-19T09:55:24.951944",
   "version": "2.3.3"
  }
 },
 "nbformat": 4,
 "nbformat_minor": 5
}
