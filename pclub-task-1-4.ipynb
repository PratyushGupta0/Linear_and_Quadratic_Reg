{
 "cells": [
  {
   "cell_type": "code",
   "execution_count": 1,
   "id": "8668e4ea",
   "metadata": {
    "_cell_guid": "b1076dfc-b9ad-4769-8c92-a6c4dae69d19",
    "_uuid": "8f2839f25d086af736a60e9eeb907d3b93b6e0e5",
    "execution": {
     "iopub.execute_input": "2021-08-18T14:30:12.245037Z",
     "iopub.status.busy": "2021-08-18T14:30:12.244264Z",
     "iopub.status.idle": "2021-08-18T14:30:12.259169Z",
     "shell.execute_reply": "2021-08-18T14:30:12.258456Z",
     "shell.execute_reply.started": "2021-08-18T14:25:35.602285Z"
    },
    "papermill": {
     "duration": 0.039983,
     "end_time": "2021-08-18T14:30:12.259354",
     "exception": false,
     "start_time": "2021-08-18T14:30:12.219371",
     "status": "completed"
    },
    "tags": []
   },
   "outputs": [
    {
     "name": "stdout",
     "output_type": "stream",
     "text": [
      "/kaggle/input/red-wine-quality-cortez-et-al-2009/winequality-red.csv\n"
     ]
    }
   ],
   "source": [
    "# This Python 3 environment comes with many helpful analytics libraries installed\n",
    "# It is defined by the kaggle/python Docker image: https://github.com/kaggle/docker-python\n",
    "# For example, here's several helpful packages to load\n",
    "\n",
    "import numpy as np # linear algebra\n",
    "import pandas as pd # data processing, CSV file I/O (e.g. pd.read_csv)\n",
    "import matplotlib.pyplot as plt\n",
    "\n",
    "# Input data files are available in the read-only \"../input/\" directory\n",
    "# For example, running this (by clicking run or pressing Shift+Enter) will list all files under the input directory\n",
    "\n",
    "import os\n",
    "for dirname, _, filenames in os.walk('/kaggle/input'):\n",
    "    for filename in filenames:\n",
    "        print(os.path.join(dirname, filename))\n",
    "\n",
    "# You can write up to 20GB to the current directory (/kaggle/working/) that gets preserved as output when you create a version using \"Save & Run All\" \n",
    "# You can also write temporary files to /kaggle/temp/, but they won't be saved outside of the current session"
   ]
  },
  {
   "cell_type": "code",
   "execution_count": 2,
   "id": "909283bb",
   "metadata": {
    "execution": {
     "iopub.execute_input": "2021-08-18T14:30:12.287736Z",
     "iopub.status.busy": "2021-08-18T14:30:12.287088Z",
     "iopub.status.idle": "2021-08-18T14:30:12.290667Z",
     "shell.execute_reply": "2021-08-18T14:30:12.290017Z",
     "shell.execute_reply.started": "2021-08-18T14:29:16.444359Z"
    },
    "papermill": {
     "duration": 0.01914,
     "end_time": "2021-08-18T14:30:12.290825",
     "exception": false,
     "start_time": "2021-08-18T14:30:12.271685",
     "status": "completed"
    },
    "tags": []
   },
   "outputs": [],
   "source": [
    "M=1200\n",
    "EPOCHS=20000\n",
    "num_features=11\n",
    "learning_rate=0.0000000001"
   ]
  },
  {
   "cell_type": "code",
   "execution_count": 3,
   "id": "febac5c3",
   "metadata": {
    "execution": {
     "iopub.execute_input": "2021-08-18T14:30:12.319968Z",
     "iopub.status.busy": "2021-08-18T14:30:12.319248Z",
     "iopub.status.idle": "2021-08-18T14:30:12.326678Z",
     "shell.execute_reply": "2021-08-18T14:30:12.325209Z",
     "shell.execute_reply.started": "2021-08-18T14:29:17.780034Z"
    },
    "papermill": {
     "duration": 0.024775,
     "end_time": "2021-08-18T14:30:12.326901",
     "exception": false,
     "start_time": "2021-08-18T14:30:12.302126",
     "status": "completed"
    },
    "tags": []
   },
   "outputs": [],
   "source": [
    "x_train=np.random.randn(num_features,1200)\n",
    "W1_act=np.random.randn(num_features,1)\n",
    "W2_act=np.random.randn(num_features,1)\n",
    "b_act=np.random.randn(1,1)\n",
    "y_train=np.dot(W1_act.T,x_train)+b_act+np.dot(W2_act.T,x_train**2)"
   ]
  },
  {
   "cell_type": "code",
   "execution_count": 4,
   "id": "ae3e0a0d",
   "metadata": {
    "execution": {
     "iopub.execute_input": "2021-08-18T14:30:12.378389Z",
     "iopub.status.busy": "2021-08-18T14:30:12.376085Z",
     "iopub.status.idle": "2021-08-18T14:30:12.379454Z",
     "shell.execute_reply": "2021-08-18T14:30:12.377111Z",
     "shell.execute_reply.started": "2021-08-18T14:29:19.490179Z"
    },
    "papermill": {
     "duration": 0.033198,
     "end_time": "2021-08-18T14:30:12.379692",
     "exception": false,
     "start_time": "2021-08-18T14:30:12.346494",
     "status": "completed"
    },
    "tags": []
   },
   "outputs": [],
   "source": [
    "def compute_loss(y, y_pred):\n",
    "    loss = 1 / 2 * np.mean((y_pred - y)**2)\n",
    "    return loss"
   ]
  },
  {
   "cell_type": "code",
   "execution_count": 5,
   "id": "a9854e13",
   "metadata": {
    "execution": {
     "iopub.execute_input": "2021-08-18T14:30:12.433301Z",
     "iopub.status.busy": "2021-08-18T14:30:12.432081Z",
     "iopub.status.idle": "2021-08-18T14:30:12.435105Z",
     "shell.execute_reply": "2021-08-18T14:30:12.434229Z",
     "shell.execute_reply.started": "2021-08-18T14:26:56.155597Z"
    },
    "papermill": {
     "duration": 0.034084,
     "end_time": "2021-08-18T14:30:12.435320",
     "exception": false,
     "start_time": "2021-08-18T14:30:12.401236",
     "status": "completed"
    },
    "tags": []
   },
   "outputs": [],
   "source": [
    "def derivative(y_true,y_pred):\n",
    "    signum=np.sign(y_pred-y_true)\n",
    "    derivative=np.multiply(signum,7*(y_pred-y_true)**6)\n",
    "    return derivative"
   ]
  },
  {
   "cell_type": "code",
   "execution_count": 6,
   "id": "fa077aeb",
   "metadata": {
    "execution": {
     "iopub.execute_input": "2021-08-18T14:30:12.464942Z",
     "iopub.status.busy": "2021-08-18T14:30:12.463942Z",
     "iopub.status.idle": "2021-08-18T14:30:12.467078Z",
     "shell.execute_reply": "2021-08-18T14:30:12.466568Z",
     "shell.execute_reply.started": "2021-08-18T14:26:57.506247Z"
    },
    "papermill": {
     "duration": 0.019951,
     "end_time": "2021-08-18T14:30:12.467226",
     "exception": false,
     "start_time": "2021-08-18T14:30:12.447275",
     "status": "completed"
    },
    "tags": []
   },
   "outputs": [],
   "source": [
    "def second_input(x_train):\n",
    "    return x_train**2\n",
    "squared=second_input(x_train)"
   ]
  },
  {
   "cell_type": "code",
   "execution_count": 7,
   "id": "1fa1423d",
   "metadata": {
    "execution": {
     "iopub.execute_input": "2021-08-18T14:30:12.495733Z",
     "iopub.status.busy": "2021-08-18T14:30:12.494699Z",
     "iopub.status.idle": "2021-08-18T14:30:12.498184Z",
     "shell.execute_reply": "2021-08-18T14:30:12.497666Z",
     "shell.execute_reply.started": "2021-08-18T14:29:22.430308Z"
    },
    "papermill": {
     "duration": 0.01979,
     "end_time": "2021-08-18T14:30:12.498332",
     "exception": false,
     "start_time": "2021-08-18T14:30:12.478542",
     "status": "completed"
    },
    "tags": []
   },
   "outputs": [],
   "source": [
    "W1=np.random.randn(num_features,1)\n",
    "W2=np.random.randn(num_features,1)\n",
    "b=np.random.randn(1,1)"
   ]
  },
  {
   "cell_type": "code",
   "execution_count": 8,
   "id": "4770c1d8",
   "metadata": {
    "execution": {
     "iopub.execute_input": "2021-08-18T14:30:12.530613Z",
     "iopub.status.busy": "2021-08-18T14:30:12.529479Z",
     "iopub.status.idle": "2021-08-18T14:30:21.111020Z",
     "shell.execute_reply": "2021-08-18T14:30:21.111739Z",
     "shell.execute_reply.started": "2021-08-18T14:29:24.131437Z"
    },
    "papermill": {
     "duration": 8.601519,
     "end_time": "2021-08-18T14:30:21.112011",
     "exception": false,
     "start_time": "2021-08-18T14:30:12.510492",
     "status": "completed"
    },
    "tags": []
   },
   "outputs": [],
   "source": [
    "losses=[]\n",
    "for i in range(0,EPOCHS):\n",
    "        preds=np.dot(W1.T,x_train)+np.dot(W2.T,squared)+b\n",
    "        dZ=derivative(y_train,preds)\n",
    "        #print(y_train.shape)\n",
    "        #print(x_train.shape)\n",
    "        W1_grad=((np.dot(x_train,dZ.T)))/M\n",
    "        W2_grad=((np.dot(squared,dZ.T)))/M\n",
    "        #print(W_grad)\n",
    "        b_grad=(1/M)*(np.sum(dZ))\n",
    "       # print(b_grad)\n",
    "        W1=W1-learning_rate*W1_grad\n",
    "        W2=W2-learning_rate*W2_grad\n",
    "        b=b-learning_rate*b_grad\n",
    "        loss=compute_loss(y_train,preds)\n",
    "        losses.append(loss)"
   ]
  },
  {
   "cell_type": "code",
   "execution_count": 9,
   "id": "a73cae39",
   "metadata": {
    "execution": {
     "iopub.execute_input": "2021-08-18T14:30:21.165256Z",
     "iopub.status.busy": "2021-08-18T14:30:21.164192Z",
     "iopub.status.idle": "2021-08-18T14:30:21.484055Z",
     "shell.execute_reply": "2021-08-18T14:30:21.484622Z",
     "shell.execute_reply.started": "2021-08-18T14:29:33.231784Z"
    },
    "papermill": {
     "duration": 0.352806,
     "end_time": "2021-08-18T14:30:21.484797",
     "exception": false,
     "start_time": "2021-08-18T14:30:21.131991",
     "status": "completed"
    },
    "tags": []
   },
   "outputs": [
    {
     "data": {
      "image/png": "[encoded data removed]",
      "text/plain": [
       "<Figure size 432x288 with 1 Axes>"
      ]
     },
     "metadata": {
      "needs_background": "light"
     },
     "output_type": "display_data"
    }
   ],
   "source": [
    "x=list(range(1,EPOCHS+1))\n",
    "y=losses\n",
    "plt.plot(x, y)\n",
    "  \n",
    "# naming the x axis\n",
    "plt.xlabel('x - axis')\n",
    "# naming the y axis\n",
    "plt.ylabel('y - axis')\n",
    "  \n",
    "# giving a title to my graph\n",
    "plt.title('Loss as function of Epochs')\n",
    "  \n",
    "# function to show the plot\n",
    "plt.show()"
   ]
  },
  {
   "cell_type": "code",
   "execution_count": 10,
   "id": "6f65b0c1",
   "metadata": {
    "execution": {
     "iopub.execute_input": "2021-08-18T14:30:21.512449Z",
     "iopub.status.busy": "2021-08-18T14:30:21.511507Z",
     "iopub.status.idle": "2021-08-18T14:30:21.517829Z",
     "shell.execute_reply": "2021-08-18T14:30:21.518387Z",
     "shell.execute_reply.started": "2021-08-18T14:29:37.981066Z"
    },
    "papermill": {
     "duration": 0.021817,
     "end_time": "2021-08-18T14:30:21.518566",
     "exception": false,
     "start_time": "2021-08-18T14:30:21.496749",
     "status": "completed"
    },
    "tags": []
   },
   "outputs": [
    {
     "data": {
      "text/plain": [
       "4.540242009689663"
      ]
     },
     "execution_count": 10,
     "metadata": {},
     "output_type": "execute_result"
    }
   ],
   "source": [
    "losses[-1]"
   ]
  },
  {
   "cell_type": "code",
   "execution_count": 11,
   "id": "9b3447ae",
   "metadata": {
    "execution": {
     "iopub.execute_input": "2021-08-18T14:30:21.546787Z",
     "iopub.status.busy": "2021-08-18T14:30:21.545823Z",
     "iopub.status.idle": "2021-08-18T14:30:21.666988Z",
     "shell.execute_reply": "2021-08-18T14:30:21.667500Z",
     "shell.execute_reply.started": "2021-08-18T14:29:40.215110Z"
    },
    "papermill": {
     "duration": 0.136879,
     "end_time": "2021-08-18T14:30:21.667669",
     "exception": false,
     "start_time": "2021-08-18T14:30:21.530790",
     "status": "completed"
    },
    "tags": []
   },
   "outputs": [
    {
     "data": {
      "image/png": "[encoded data removed]",
      "text/plain": [
       "<Figure size 432x288 with 1 Axes>"
      ]
     },
     "metadata": {
      "needs_background": "light"
     },
     "output_type": "display_data"
    }
   ],
   "source": [
    "x=list(range(1,11+1))\n",
    "plt.plot(x, W1_act.tolist(), 'r') \n",
    "plt.plot(x, W1.tolist(), 'b')  \n",
    "plt.show()"
   ]
  },
  {
   "cell_type": "code",
   "execution_count": 12,
   "id": "bc727544",
   "metadata": {
    "execution": {
     "iopub.execute_input": "2021-08-18T14:30:21.697854Z",
     "iopub.status.busy": "2021-08-18T14:30:21.696937Z",
     "iopub.status.idle": "2021-08-18T14:30:21.826777Z",
     "shell.execute_reply": "2021-08-18T14:30:21.826100Z",
     "shell.execute_reply.started": "2021-08-18T14:29:42.674683Z"
    },
    "papermill": {
     "duration": 0.145979,
     "end_time": "2021-08-18T14:30:21.826951",
     "exception": false,
     "start_time": "2021-08-18T14:30:21.680972",
     "status": "completed"
    },
    "tags": []
   },
   "outputs": [
    {
     "data": {
      "image/png": "[encoded data removed]",
      "text/plain": [
       "<Figure size 432x288 with 1 Axes>"
      ]
     },
     "metadata": {
      "needs_background": "light"
     },
     "output_type": "display_data"
    }
   ],
   "source": [
    "x=list(range(1,11+1))\n",
    "plt.plot(x, W2_act.tolist(), 'r') \n",
    "plt.plot(x, W2.tolist(), 'b') \n",
    "plt.show()"
   ]
  }
 ],
 "metadata": {
  "kernelspec": {
   "display_name": "Python 3",
   "language": "python",
   "name": "python3"
  },
  "language_info": {
   "codemirror_mode": {
    "name": "ipython",
    "version": 3
   },
   "file_extension": ".py",
   "mimetype": "text/x-python",
   "name": "python",
   "nbconvert_exporter": "python",
   "pygments_lexer": "ipython3",
   "version": "3.7.10"
  },
  "papermill": {
   "default_parameters": {},
   "duration": 19.398794,
   "end_time": "2021-08-18T14:30:22.553007",
   "environment_variables": {},
   "exception": null,
   "input_path": "__notebook__.ipynb",
   "output_path": "__notebook__.ipynb",
   "parameters": {},
   "start_time": "2021-08-18T14:30:03.154213",
   "version": "2.3.3"
  }
 },
 "nbformat": 4,
 "nbformat_minor": 5
}
