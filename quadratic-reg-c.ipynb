{
 "cells": [
  {
   "cell_type": "code",
   "execution_count": 1,
   "id": "18d98d88",
   "metadata": {
    "_cell_guid": "b1076dfc-b9ad-4769-8c92-a6c4dae69d19",
    "_uuid": "8f2839f25d086af736a60e9eeb907d3b93b6e0e5",
    "execution": {
     "iopub.execute_input": "2021-08-19T09:52:34.120127Z",
     "iopub.status.busy": "2021-08-19T09:52:34.118975Z",
     "iopub.status.idle": "2021-08-19T09:52:34.135824Z",
     "shell.execute_reply": "2021-08-19T09:52:34.136895Z",
     "shell.execute_reply.started": "2021-08-18T14:16:48.548555Z"
    },
    "papermill": {
     "duration": 0.034132,
     "end_time": "2021-08-19T09:52:34.137335",
     "exception": false,
     "start_time": "2021-08-19T09:52:34.103203",
     "status": "completed"
    },
    "tags": []
   },
   "outputs": [
    {
     "name": "stdout",
     "output_type": "stream",
     "text": [
      "/kaggle/input/red-wine-quality-cortez-et-al-2009/winequality-red.csv\n"
     ]
    }
   ],
   "source": [
    "# This Python 3 environment comes with many helpful analytics libraries installed\n",
    "# It is defined by the kaggle/python Docker image: https://github.com/kaggle/docker-python\n",
    "# For example, here's several helpful packages to load\n",
    "\n",
    "import numpy as np # linear algebra\n",
    "import pandas as pd # data processing, CSV file I/O (e.g. pd.read_csv)\n",
    "import matplotlib.pyplot as plt\n",
    "\n",
    "# Input data files are available in the read-only \"../input/\" directory\n",
    "# For example, running this (by clicking run or pressing Shift+Enter) will list all files under the input directory\n",
    "\n",
    "import os\n",
    "for dirname, _, filenames in os.walk('/kaggle/input'):\n",
    "    for filename in filenames:\n",
    "        print(os.path.join(dirname, filename))\n",
    "\n",
    "# You can write up to 20GB to the current directory (/kaggle/working/) that gets preserved as output when you create a version using \"Save & Run All\" \n",
    "# You can also write temporary files to /kaggle/temp/, but they won't be saved outside of the current session"
   ]
  },
  {
   "cell_type": "code",
   "execution_count": 2,
   "id": "3ddaa478",
   "metadata": {
    "execution": {
     "iopub.execute_input": "2021-08-19T09:52:34.165596Z",
     "iopub.status.busy": "2021-08-19T09:52:34.164965Z",
     "iopub.status.idle": "2021-08-19T09:52:34.169772Z",
     "shell.execute_reply": "2021-08-19T09:52:34.169261Z",
     "shell.execute_reply.started": "2021-08-18T14:21:38.304354Z"
    },
    "papermill": {
     "duration": 0.019181,
     "end_time": "2021-08-19T09:52:34.169912",
     "exception": false,
     "start_time": "2021-08-19T09:52:34.150731",
     "status": "completed"
    },
    "tags": []
   },
   "outputs": [],
   "source": [
    "M=1200\n",
    "EPOCHS=20000\n",
    "num_features=11\n",
    "learning_rate=0.0001"
   ]
  },
  {
   "cell_type": "code",
   "execution_count": 3,
   "id": "09aba51a",
   "metadata": {
    "execution": {
     "iopub.execute_input": "2021-08-19T09:52:34.201896Z",
     "iopub.status.busy": "2021-08-19T09:52:34.199453Z",
     "iopub.status.idle": "2021-08-19T09:52:34.205608Z",
     "shell.execute_reply": "2021-08-19T09:52:34.206377Z",
     "shell.execute_reply.started": "2021-08-18T14:21:40.334616Z"
    },
    "papermill": {
     "duration": 0.024172,
     "end_time": "2021-08-19T09:52:34.206644",
     "exception": false,
     "start_time": "2021-08-19T09:52:34.182472",
     "status": "completed"
    },
    "tags": []
   },
   "outputs": [],
   "source": [
    "x_train=np.random.randn(num_features,1200)\n",
    "W1_act=np.random.randn(num_features,1)\n",
    "W2_act=np.random.randn(num_features,1)\n",
    "b_act=np.random.randn(1,1)\n",
    "y_train=np.dot(W1_act.T,x_train)+b_act+np.dot(W2_act.T,x_train**2)"
   ]
  },
  {
   "cell_type": "code",
   "execution_count": 4,
   "id": "23b8268c",
   "metadata": {
    "execution": {
     "iopub.execute_input": "2021-08-19T09:52:34.258881Z",
     "iopub.status.busy": "2021-08-19T09:52:34.257415Z",
     "iopub.status.idle": "2021-08-19T09:52:34.260886Z",
     "shell.execute_reply": "2021-08-19T09:52:34.259984Z",
     "shell.execute_reply.started": "2021-08-18T14:21:41.779847Z"
    },
    "papermill": {
     "duration": 0.033592,
     "end_time": "2021-08-19T09:52:34.261107",
     "exception": false,
     "start_time": "2021-08-19T09:52:34.227515",
     "status": "completed"
    },
    "tags": []
   },
   "outputs": [],
   "source": [
    "def compute_loss(y, y_pred):\n",
    "    loss = 1 / 2 * np.mean((y_pred - y)**2)\n",
    "    return loss"
   ]
  },
  {
   "cell_type": "code",
   "execution_count": 5,
   "id": "fa8f3abb",
   "metadata": {
    "execution": {
     "iopub.execute_input": "2021-08-19T09:52:34.313228Z",
     "iopub.status.busy": "2021-08-19T09:52:34.312037Z",
     "iopub.status.idle": "2021-08-19T09:52:34.315027Z",
     "shell.execute_reply": "2021-08-19T09:52:34.314156Z",
     "shell.execute_reply.started": "2021-08-18T14:21:43.044376Z"
    },
    "papermill": {
     "duration": 0.033262,
     "end_time": "2021-08-19T09:52:34.315234",
     "exception": false,
     "start_time": "2021-08-19T09:52:34.281972",
     "status": "completed"
    },
    "tags": []
   },
   "outputs": [],
   "source": [
    "def second_input(x_train):\n",
    "    return x_train**2\n",
    "squared=second_input(x_train)"
   ]
  },
  {
   "cell_type": "code",
   "execution_count": 6,
   "id": "d352e98d",
   "metadata": {
    "execution": {
     "iopub.execute_input": "2021-08-19T09:52:34.347809Z",
     "iopub.status.busy": "2021-08-19T09:52:34.346787Z",
     "iopub.status.idle": "2021-08-19T09:52:34.349315Z",
     "shell.execute_reply": "2021-08-19T09:52:34.349811Z",
     "shell.execute_reply.started": "2021-08-18T14:21:44.408635Z"
    },
    "papermill": {
     "duration": 0.019495,
     "end_time": "2021-08-19T09:52:34.349976",
     "exception": false,
     "start_time": "2021-08-19T09:52:34.330481",
     "status": "completed"
    },
    "tags": []
   },
   "outputs": [],
   "source": [
    "def derivative(y_true,y_pred):\n",
    "    return (-4)*((y_true-y_pred)**3)"
   ]
  },
  {
   "cell_type": "code",
   "execution_count": 7,
   "id": "236d0a23",
   "metadata": {
    "execution": {
     "iopub.execute_input": "2021-08-19T09:52:34.377450Z",
     "iopub.status.busy": "2021-08-19T09:52:34.376526Z",
     "iopub.status.idle": "2021-08-19T09:52:34.382359Z",
     "shell.execute_reply": "2021-08-19T09:52:34.381847Z",
     "shell.execute_reply.started": "2021-08-18T14:21:46.173654Z"
    },
    "papermill": {
     "duration": 0.020814,
     "end_time": "2021-08-19T09:52:34.382498",
     "exception": false,
     "start_time": "2021-08-19T09:52:34.361684",
     "status": "completed"
    },
    "tags": []
   },
   "outputs": [],
   "source": [
    "\n",
    "W1=np.random.randn(num_features,1)\n",
    "W2=np.random.randn(num_features,1)\n",
    "b=np.random.randn(1,1)"
   ]
  },
  {
   "cell_type": "code",
   "execution_count": 8,
   "id": "0a2ed141",
   "metadata": {
    "execution": {
     "iopub.execute_input": "2021-08-19T09:52:34.420505Z",
     "iopub.status.busy": "2021-08-19T09:52:34.419429Z",
     "iopub.status.idle": "2021-08-19T09:52:41.895470Z",
     "shell.execute_reply": "2021-08-19T09:52:41.896590Z",
     "shell.execute_reply.started": "2021-08-18T14:21:47.60408Z"
    },
    "papermill": {
     "duration": 7.502412,
     "end_time": "2021-08-19T09:52:41.896861",
     "exception": false,
     "start_time": "2021-08-19T09:52:34.394449",
     "status": "completed"
    },
    "tags": []
   },
   "outputs": [],
   "source": [
    "losses=[]\n",
    "for i in range(0,EPOCHS):\n",
    "        preds=np.dot(W1.T,x_train)+np.dot(W2.T,squared)+b\n",
    "        dZ=derivative(y_train,preds)\n",
    "        W1_grad=((np.dot(x_train,dZ.T)))/M\n",
    "        W2_grad=((np.dot(squared,dZ.T)))/M\n",
    "        b_grad=(1/M)*(np.sum(dZ))\n",
    "        W1=W1-learning_rate*W1_grad\n",
    "        W2=W2-learning_rate*W2_grad\n",
    "        b=b-learning_rate*b_grad\n",
    "        loss=compute_loss(y_train,preds)\n",
    "        losses.append(loss)"
   ]
  },
  {
   "cell_type": "code",
   "execution_count": 9,
   "id": "a2af67e7",
   "metadata": {
    "execution": {
     "iopub.execute_input": "2021-08-19T09:52:41.947301Z",
     "iopub.status.busy": "2021-08-19T09:52:41.946300Z",
     "iopub.status.idle": "2021-08-19T09:52:42.246541Z",
     "shell.execute_reply": "2021-08-19T09:52:42.247088Z",
     "shell.execute_reply.started": "2021-08-18T14:21:56.845863Z"
    },
    "papermill": {
     "duration": 0.329913,
     "end_time": "2021-08-19T09:52:42.247283",
     "exception": false,
     "start_time": "2021-08-19T09:52:41.917370",
     "status": "completed"
    },
    "tags": []
   },
   "outputs": [
    {
     "data": {
      "image/png": "[encoded data removed]",
      "text/plain": [
       "<Figure size 432x288 with 1 Axes>"
      ]
     },
     "metadata": {
      "needs_background": "light"
     },
     "output_type": "display_data"
    }
   ],
   "source": [
    "x=list(range(1,EPOCHS+1))\n",
    "y=losses\n",
    "plt.plot(x, y)\n",
    "  \n",
    "# naming the x axis\n",
    "plt.xlabel('x - axis')\n",
    "# naming the y axis\n",
    "plt.ylabel('y - axis')\n",
    "  \n",
    "# giving a title to my graph\n",
    "plt.title('Loss as function of Epochs')\n",
    "  \n",
    "# function to show the plot\n",
    "plt.show()"
   ]
  },
  {
   "cell_type": "code",
   "execution_count": 10,
   "id": "bcdf97dc",
   "metadata": {
    "execution": {
     "iopub.execute_input": "2021-08-19T09:52:42.276253Z",
     "iopub.status.busy": "2021-08-19T09:52:42.275307Z",
     "iopub.status.idle": "2021-08-19T09:52:42.281508Z",
     "shell.execute_reply": "2021-08-19T09:52:42.282067Z",
     "shell.execute_reply.started": "2021-08-18T14:22:00.135013Z"
    },
    "papermill": {
     "duration": 0.022253,
     "end_time": "2021-08-19T09:52:42.282255",
     "exception": false,
     "start_time": "2021-08-19T09:52:42.260002",
     "status": "completed"
    },
    "tags": []
   },
   "outputs": [
    {
     "data": {
      "text/plain": [
       "0.025216474252296343"
      ]
     },
     "execution_count": 10,
     "metadata": {},
     "output_type": "execute_result"
    }
   ],
   "source": [
    "losses[-1]"
   ]
  },
  {
   "cell_type": "code",
   "execution_count": 11,
   "id": "db9c6a1e",
   "metadata": {
    "execution": {
     "iopub.execute_input": "2021-08-19T09:52:42.335816Z",
     "iopub.status.busy": "2021-08-19T09:52:42.328611Z",
     "iopub.status.idle": "2021-08-19T09:52:42.450094Z",
     "shell.execute_reply": "2021-08-19T09:52:42.450766Z",
     "shell.execute_reply.started": "2021-08-18T14:22:45.835001Z"
    },
    "papermill": {
     "duration": 0.155959,
     "end_time": "2021-08-19T09:52:42.450950",
     "exception": false,
     "start_time": "2021-08-19T09:52:42.294991",
     "status": "completed"
    },
    "tags": []
   },
   "outputs": [
    {
     "data": {
      "image/png": "[encoded data removed]",
      "text/plain": [
       "<Figure size 432x288 with 1 Axes>"
      ]
     },
     "metadata": {
      "needs_background": "light"
     },
     "output_type": "display_data"
    }
   ],
   "source": [
    "\n",
    "#A plot of actual weights against trainable weights. Actual weights are in  red and trainable weights in blue.\n",
    "x=list(range(1,11+1))\n",
    "plt.plot(x, W1_act.tolist(), 'r') \n",
    "plt.plot(x, W1.tolist(), 'b')  \n",
    "plt.show()"
   ]
  },
  {
   "cell_type": "code",
   "execution_count": 12,
   "id": "9f9e7e24",
   "metadata": {
    "execution": {
     "iopub.execute_input": "2021-08-19T09:52:42.482232Z",
     "iopub.status.busy": "2021-08-19T09:52:42.481552Z",
     "iopub.status.idle": "2021-08-19T09:52:42.614963Z",
     "shell.execute_reply": "2021-08-19T09:52:42.615528Z",
     "shell.execute_reply.started": "2021-08-18T14:22:48.267464Z"
    },
    "papermill": {
     "duration": 0.150877,
     "end_time": "2021-08-19T09:52:42.615730",
     "exception": false,
     "start_time": "2021-08-19T09:52:42.464853",
     "status": "completed"
    },
    "tags": []
   },
   "outputs": [
    {
     "data": {
      "image/png": "[encoded data removed]",
      "text/plain": [
       "<Figure size 432x288 with 1 Axes>"
      ]
     },
     "metadata": {
      "needs_background": "light"
     },
     "output_type": "display_data"
    }
   ],
   "source": [
    "#A plot of actual weights against trainable weights. Actual weights are in  red and trainable weights in blue.\n",
    "\n",
    "x=list(range(1,11+1))\n",
    "plt.plot(x, W2_act.tolist(), 'r') \n",
    "plt.plot(x, W2.tolist(), 'b') \n",
    "plt.show()"
   ]
  },
  {
   "cell_type": "code",
   "execution_count": 13,
   "id": "662c2c1c",
   "metadata": {
    "execution": {
     "iopub.execute_input": "2021-08-19T09:52:42.649605Z",
     "iopub.status.busy": "2021-08-19T09:52:42.648903Z",
     "iopub.status.idle": "2021-08-19T09:52:42.652303Z",
     "shell.execute_reply": "2021-08-19T09:52:42.652803Z"
    },
    "papermill": {
     "duration": 0.021767,
     "end_time": "2021-08-19T09:52:42.652971",
     "exception": false,
     "start_time": "2021-08-19T09:52:42.631204",
     "status": "completed"
    },
    "tags": []
   },
   "outputs": [],
   "source": [
    "# This loss has even greater problems with vanishing and exploding gradients. Despite that , the weights come out to be\n",
    "# reasonably good. Since we are squaring the features , it has the potential to cause gradients problems in a similiar way\n",
    "# to the losses, since the value of the squared features will be either significantly smaller or greater than the original\n",
    "# input. In 2D terms, we want the loss function to be a roughly circular bowl, however this phenomenon cn cause this bowl to\n",
    "# become elongated and slow down training."
   ]
  }
 ],
 "metadata": {
  "kernelspec": {
   "display_name": "Python 3",
   "language": "python",
   "name": "python3"
  },
  "language_info": {
   "codemirror_mode": {
    "name": "ipython",
    "version": 3
   },
   "file_extension": ".py",
   "mimetype": "text/x-python",
   "name": "python",
   "nbconvert_exporter": "python",
   "pygments_lexer": "ipython3",
   "version": "3.7.10"
  },
  "papermill": {
   "default_parameters": {},
   "duration": 17.290642,
   "end_time": "2021-08-19T09:52:43.378508",
   "environment_variables": {},
   "exception": null,
   "input_path": "__notebook__.ipynb",
   "output_path": "__notebook__.ipynb",
   "parameters": {},
   "start_time": "2021-08-19T09:52:26.087866",
   "version": "2.3.3"
  }
 },
 "nbformat": 4,
 "nbformat_minor": 5
}
