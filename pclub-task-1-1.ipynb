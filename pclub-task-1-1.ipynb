{
 "cells": [
  {
   "cell_type": "code",
   "execution_count": 1,
   "id": "edb5a582",
   "metadata": {
    "_cell_guid": "b1076dfc-b9ad-4769-8c92-a6c4dae69d19",
    "_uuid": "8f2839f25d086af736a60e9eeb907d3b93b6e0e5",
    "execution": {
     "iopub.execute_input": "2021-08-18T14:23:23.905235Z",
     "iopub.status.busy": "2021-08-18T14:23:23.904606Z",
     "iopub.status.idle": "2021-08-18T14:23:23.908208Z",
     "shell.execute_reply": "2021-08-18T14:23:23.907592Z",
     "shell.execute_reply.started": "2021-08-18T14:11:30.472068Z"
    },
    "papermill": {
     "duration": 0.026265,
     "end_time": "2021-08-18T14:23:23.908358",
     "exception": false,
     "start_time": "2021-08-18T14:23:23.882093",
     "status": "completed"
    },
    "tags": []
   },
   "outputs": [],
   "source": [
    "# This Python 3 environment comes with many helpful analytics libraries installed\n",
    "# It is defined by the kaggle/python Docker image: https://github.com/kaggle/docker-python\n",
    "# For example, here's several helpful packages to load\n",
    "\n",
    "import numpy as np # linear algebra\n",
    "import pandas as pd # data processing, CSV file I/O (e.g. pd.read_csv)\n",
    "import matplotlib.pyplot as plt\n",
    "# Input data files are available in the read-only \"../input/\" directory\n",
    "# For example, running this (by clicking run or pressing Shift+Enter) will list all files under the input directory\n",
    "\n",
    "import os\n",
    "for dirname, _, filenames in os.walk('/kaggle/input'):\n",
    "    for filename in filenames:\n",
    "        print(os.path.join(dirname, filename))\n",
    "\n",
    "# You can write up to 20GB to the current directory (/kaggle/working/) that gets preserved as output when you create a version using \"Save & Run All\" \n",
    "# You can also write temporary files to /kaggle/temp/, but they won't be saved outside of the current session"
   ]
  },
  {
   "cell_type": "code",
   "execution_count": 2,
   "id": "4232fdad",
   "metadata": {
    "execution": {
     "iopub.execute_input": "2021-08-18T14:23:23.932115Z",
     "iopub.status.busy": "2021-08-18T14:23:23.931535Z",
     "iopub.status.idle": "2021-08-18T14:23:23.934474Z",
     "shell.execute_reply": "2021-08-18T14:23:23.934974Z"
    },
    "papermill": {
     "duration": 0.016961,
     "end_time": "2021-08-18T14:23:23.935179",
     "exception": false,
     "start_time": "2021-08-18T14:23:23.918218",
     "status": "completed"
    },
    "tags": []
   },
   "outputs": [],
   "source": [
    "M=1200\n",
    "EPOCHS=20000\n",
    "num_features=11\n",
    "learning_rate=0.01"
   ]
  },
  {
   "cell_type": "code",
   "execution_count": 3,
   "id": "4ef184a8",
   "metadata": {
    "execution": {
     "iopub.execute_input": "2021-08-18T14:23:23.961077Z",
     "iopub.status.busy": "2021-08-18T14:23:23.958973Z",
     "iopub.status.idle": "2021-08-18T14:23:23.965587Z",
     "shell.execute_reply": "2021-08-18T14:23:23.963963Z",
     "shell.execute_reply.started": "2021-08-18T14:11:32.450217Z"
    },
    "papermill": {
     "duration": 0.020799,
     "end_time": "2021-08-18T14:23:23.965796",
     "exception": false,
     "start_time": "2021-08-18T14:23:23.944997",
     "status": "completed"
    },
    "tags": []
   },
   "outputs": [],
   "source": [
    "x_train=np.random.randn(num_features,1200)\n",
    "W_act=np.random.randn(num_features,1)\n",
    "b_act=np.random.randn(1,1)\n",
    "y_train=np.dot(W_act.T,x_train)+b_act"
   ]
  },
  {
   "cell_type": "code",
   "execution_count": 4,
   "id": "da589ab2",
   "metadata": {
    "execution": {
     "iopub.execute_input": "2021-08-18T14:23:24.009173Z",
     "iopub.status.busy": "2021-08-18T14:23:24.008032Z",
     "iopub.status.idle": "2021-08-18T14:23:24.010842Z",
     "shell.execute_reply": "2021-08-18T14:23:24.009958Z",
     "shell.execute_reply.started": "2021-08-18T14:11:35.313486Z"
    },
    "papermill": {
     "duration": 0.028598,
     "end_time": "2021-08-18T14:23:24.011051",
     "exception": false,
     "start_time": "2021-08-18T14:23:23.982453",
     "status": "completed"
    },
    "tags": []
   },
   "outputs": [],
   "source": [
    "W=np.random.randn(num_features,1)\n",
    "b=np.random.randn(1,1)"
   ]
  },
  {
   "cell_type": "code",
   "execution_count": 5,
   "id": "cb43de5f",
   "metadata": {
    "execution": {
     "iopub.execute_input": "2021-08-18T14:23:24.054706Z",
     "iopub.status.busy": "2021-08-18T14:23:24.053602Z",
     "iopub.status.idle": "2021-08-18T14:23:24.056415Z",
     "shell.execute_reply": "2021-08-18T14:23:24.055536Z",
     "shell.execute_reply.started": "2021-08-18T14:09:16.528168Z"
    },
    "papermill": {
     "duration": 0.028872,
     "end_time": "2021-08-18T14:23:24.056623",
     "exception": false,
     "start_time": "2021-08-18T14:23:24.027751",
     "status": "completed"
    },
    "tags": []
   },
   "outputs": [],
   "source": [
    "def compute_loss(y, y_pred):\n",
    "    loss = 1 / 2 * np.mean((y_pred - y)**2)\n",
    "    return loss"
   ]
  },
  {
   "cell_type": "code",
   "execution_count": 6,
   "id": "eb902c68",
   "metadata": {
    "execution": {
     "iopub.execute_input": "2021-08-18T14:23:24.091610Z",
     "iopub.status.busy": "2021-08-18T14:23:24.090618Z",
     "iopub.status.idle": "2021-08-18T14:23:24.093605Z",
     "shell.execute_reply": "2021-08-18T14:23:24.092967Z",
     "shell.execute_reply.started": "2021-08-18T14:11:38.187916Z"
    },
    "papermill": {
     "duration": 0.020339,
     "end_time": "2021-08-18T14:23:24.093746",
     "exception": false,
     "start_time": "2021-08-18T14:23:24.073407",
     "status": "completed"
    },
    "tags": []
   },
   "outputs": [],
   "source": [
    "\n",
    "def derivative(y_true,y_pred):\n",
    "    derivative=np.sign(y_pred-y_true)\n",
    "    return derivative"
   ]
  },
  {
   "cell_type": "code",
   "execution_count": 7,
   "id": "4d2da49b",
   "metadata": {
    "execution": {
     "iopub.execute_input": "2021-08-18T14:23:24.119933Z",
     "iopub.status.busy": "2021-08-18T14:23:24.118840Z",
     "iopub.status.idle": "2021-08-18T14:23:26.401976Z",
     "shell.execute_reply": "2021-08-18T14:23:26.403116Z",
     "shell.execute_reply.started": "2021-08-18T14:11:39.638237Z"
    },
    "papermill": {
     "duration": 2.300248,
     "end_time": "2021-08-18T14:23:26.403402",
     "exception": false,
     "start_time": "2021-08-18T14:23:24.103154",
     "status": "completed"
    },
    "tags": []
   },
   "outputs": [],
   "source": [
    "losses=[]\n",
    "for i in range(0,EPOCHS):\n",
    "    preds=np.dot(W.T,x_train)+b\n",
    "    dZ=derivative(y_train,preds)\n",
    "    W_grad=((np.dot(x_train,dZ.T)))/M\n",
    "    b_grad=(1/M)*(np.sum(dZ))\n",
    "    W=W-learning_rate*W_grad\n",
    "    b=b-learning_rate*b_grad\n",
    "    loss=compute_loss(y_train,preds)\n",
    "    losses.append(loss)\n",
    "    "
   ]
  },
  {
   "cell_type": "code",
   "execution_count": 8,
   "id": "4d46d9da",
   "metadata": {
    "execution": {
     "iopub.execute_input": "2021-08-18T14:23:26.445577Z",
     "iopub.status.busy": "2021-08-18T14:23:26.444570Z",
     "iopub.status.idle": "2021-08-18T14:23:26.755309Z",
     "shell.execute_reply": "2021-08-18T14:23:26.755791Z",
     "shell.execute_reply.started": "2021-08-18T14:11:44.039030Z"
    },
    "papermill": {
     "duration": 0.336074,
     "end_time": "2021-08-18T14:23:26.755952",
     "exception": false,
     "start_time": "2021-08-18T14:23:26.419878",
     "status": "completed"
    },
    "tags": []
   },
   "outputs": [
    {
     "data": {
      "image/png": "[encoded data removed]",
      "text/plain": [
       "<Figure size 432x288 with 1 Axes>"
      ]
     },
     "metadata": {
      "needs_background": "light"
     },
     "output_type": "display_data"
    }
   ],
   "source": [
    "x=list(range(1,EPOCHS+1))\n",
    "y=losses\n",
    "plt.plot(x, y)\n",
    "plt.xlabel('EPOCHS')\n",
    "# naming the y axis\n",
    "plt.ylabel('MSE')\n",
    "plt.title('Loss as function of Epochs')\n",
    "plt.show()"
   ]
  },
  {
   "cell_type": "code",
   "execution_count": 9,
   "id": "75393f71",
   "metadata": {
    "execution": {
     "iopub.execute_input": "2021-08-18T14:23:26.781818Z",
     "iopub.status.busy": "2021-08-18T14:23:26.781054Z",
     "iopub.status.idle": "2021-08-18T14:23:26.785168Z",
     "shell.execute_reply": "2021-08-18T14:23:26.784644Z",
     "shell.execute_reply.started": "2021-08-18T14:11:46.599866Z"
    },
    "papermill": {
     "duration": 0.018762,
     "end_time": "2021-08-18T14:23:26.785314",
     "exception": false,
     "start_time": "2021-08-18T14:23:26.766552",
     "status": "completed"
    },
    "tags": []
   },
   "outputs": [
    {
     "name": "stdout",
     "output_type": "stream",
     "text": [
      "1.6102005163048983e-05\n"
     ]
    }
   ],
   "source": [
    "final_loss=losses[-1]\n",
    "print(final_loss)"
   ]
  },
  {
   "cell_type": "code",
   "execution_count": 10,
   "id": "026a8b02",
   "metadata": {
    "execution": {
     "iopub.execute_input": "2021-08-18T14:23:26.858604Z",
     "iopub.status.busy": "2021-08-18T14:23:26.837578Z",
     "iopub.status.idle": "2021-08-18T14:23:26.942216Z",
     "shell.execute_reply": "2021-08-18T14:23:26.941688Z"
    },
    "papermill": {
     "duration": 0.146312,
     "end_time": "2021-08-18T14:23:26.942362",
     "exception": false,
     "start_time": "2021-08-18T14:23:26.796050",
     "status": "completed"
    },
    "tags": []
   },
   "outputs": [
    {
     "data": {
      "image/png": "[encoded data removed]",
      "text/plain": [
       "<Figure size 432x288 with 1 Axes>"
      ]
     },
     "metadata": {
      "needs_background": "light"
     },
     "output_type": "display_data"
    }
   ],
   "source": [
    "x=list(range(1,11+1))\n",
    "plt.plot(x, W_act.tolist(), 'r') \n",
    "plt.plot(x, W.tolist(), 'b')  \n",
    "plt.show()"
   ]
  },
  {
   "cell_type": "code",
   "execution_count": null,
   "id": "709c98f2",
   "metadata": {
    "papermill": {
     "duration": 0.011574,
     "end_time": "2021-08-18T14:23:26.965853",
     "exception": false,
     "start_time": "2021-08-18T14:23:26.954279",
     "status": "completed"
    },
    "tags": []
   },
   "outputs": [],
   "source": []
  }
 ],
 "metadata": {
  "kernelspec": {
   "display_name": "Python 3",
   "language": "python",
   "name": "python3"
  },
  "language_info": {
   "codemirror_mode": {
    "name": "ipython",
    "version": 3
   },
   "file_extension": ".py",
   "mimetype": "text/x-python",
   "name": "python",
   "nbconvert_exporter": "python",
   "pygments_lexer": "ipython3",
   "version": "3.7.10"
  },
  "papermill": {
   "default_parameters": {},
   "duration": 11.397783,
   "end_time": "2021-08-18T14:23:27.587111",
   "environment_variables": {},
   "exception": null,
   "input_path": "__notebook__.ipynb",
   "output_path": "__notebook__.ipynb",
   "parameters": {},
   "start_time": "2021-08-18T14:23:16.189328",
   "version": "2.3.3"
  }
 },
 "nbformat": 4,
 "nbformat_minor": 5
}
