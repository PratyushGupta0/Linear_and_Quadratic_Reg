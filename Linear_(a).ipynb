{
 "cells": [
  {
   "cell_type": "code",
   "execution_count": 1,
   "id": "5a321c6a",
   "metadata": {
    "_cell_guid": "b1076dfc-b9ad-4769-8c92-a6c4dae69d19",
    "_uuid": "8f2839f25d086af736a60e9eeb907d3b93b6e0e5",
    "execution": {
     "iopub.execute_input": "2021-08-18T14:23:32.109628Z",
     "iopub.status.busy": "2021-08-18T14:23:32.108914Z",
     "iopub.status.idle": "2021-08-18T14:23:32.120868Z",
     "shell.execute_reply": "2021-08-18T14:23:32.121447Z",
     "shell.execute_reply.started": "2021-08-18T14:13:32.871713Z"
    },
    "papermill": {
     "duration": 0.035432,
     "end_time": "2021-08-18T14:23:32.121831",
     "exception": false,
     "start_time": "2021-08-18T14:23:32.086399",
     "status": "completed"
    },
    "tags": []
   },
   "outputs": [
    {
     "name": "stdout",
     "output_type": "stream",
     "text": [
      "/kaggle/input/red-wine-quality-cortez-et-al-2009/winequality-red.csv\n"
     ]
    }
   ],
   "source": [
    "# This Python 3 environment comes with many helpful analytics libraries installed\n",
    "# It is defined by the kaggle/python Docker image: https://github.com/kaggle/docker-python\n",
    "# For example, here's several helpful packages to load\n",
    "\n",
    "import numpy as np # linear algebra\n",
    "import pandas as pd # data processing, CSV file I/O (e.g. pd.read_csv)\n",
    "import matplotlib.pyplot as plt\n",
    "# Input data files are available in the read-only \"../input/\" directory\n",
    "# For example, running this (by clicking run or pressing Shift+Enter) will list all files under the input directory\n",
    "\n",
    "import os\n",
    "for dirname, _, filenames in os.walk('/kaggle/input'):\n",
    "    for filename in filenames:\n",
    "        print(os.path.join(dirname, filename))\n",
    "\n",
    "# You can write up to 20GB to the current directory (/kaggle/working/) that gets preserved as output when you create a version using \"Save & Run All\" \n",
    "# You can also write temporary files to /kaggle/temp/, but they won't be saved outside of the current session"
   ]
  },
  {
   "cell_type": "code",
   "execution_count": 2,
   "id": "09fc5835",
   "metadata": {
    "execution": {
     "iopub.execute_input": "2021-08-18T14:23:32.147848Z",
     "iopub.status.busy": "2021-08-18T14:23:32.147124Z",
     "iopub.status.idle": "2021-08-18T14:23:32.151114Z",
     "shell.execute_reply": "2021-08-18T14:23:32.150493Z",
     "shell.execute_reply.started": "2021-08-18T14:13:49.219751Z"
    },
    "papermill": {
     "duration": 0.019313,
     "end_time": "2021-08-18T14:23:32.151284",
     "exception": false,
     "start_time": "2021-08-18T14:23:32.131971",
     "status": "completed"
    },
    "tags": []
   },
   "outputs": [],
   "source": [
    "M=1200\n",
    "EPOCHS=8000\n",
    "num_features=11\n",
    "learning_rate=0.01\n",
    "W=np.random.randn(num_features,1)\n",
    "b=np.random.randn(1,1)"
   ]
  },
  {
   "cell_type": "code",
   "execution_count": 3,
   "id": "f6498587",
   "metadata": {
    "execution": {
     "iopub.execute_input": "2021-08-18T14:23:32.180407Z",
     "iopub.status.busy": "2021-08-18T14:23:32.179027Z",
     "iopub.status.idle": "2021-08-18T14:23:32.186736Z",
     "shell.execute_reply": "2021-08-18T14:23:32.185767Z",
     "shell.execute_reply.started": "2021-08-18T14:10:58.614032Z"
    },
    "papermill": {
     "duration": 0.025326,
     "end_time": "2021-08-18T14:23:32.186982",
     "exception": false,
     "start_time": "2021-08-18T14:23:32.161656",
     "status": "completed"
    },
    "tags": []
   },
   "outputs": [],
   "source": [
    "x_train=np.random.randn(num_features,1200)\n",
    "W_act=np.random.randn(num_features,1)\n",
    "b_act=np.random.randn(1,1)\n",
    "y_train=np.dot(W_act.T,x_train)+b_act"
   ]
  },
  {
   "cell_type": "code",
   "execution_count": 4,
   "id": "7dafeae6",
   "metadata": {
    "execution": {
     "iopub.execute_input": "2021-08-18T14:23:32.233497Z",
     "iopub.status.busy": "2021-08-18T14:23:32.231473Z",
     "iopub.status.idle": "2021-08-18T14:23:32.234484Z",
     "shell.execute_reply": "2021-08-18T14:23:32.232437Z",
     "shell.execute_reply.started": "2021-08-18T14:11:01.825280Z"
    },
    "papermill": {
     "duration": 0.031374,
     "end_time": "2021-08-18T14:23:32.234731",
     "exception": false,
     "start_time": "2021-08-18T14:23:32.203357",
     "status": "completed"
    },
    "tags": []
   },
   "outputs": [],
   "source": [
    "def compute_loss(y, y_pred):\n",
    "    loss = 1 / 2 * np.mean((y_pred - y)**2)\n",
    "    return loss"
   ]
  },
  {
   "cell_type": "code",
   "execution_count": 5,
   "id": "24fc5cd1",
   "metadata": {
    "execution": {
     "iopub.execute_input": "2021-08-18T14:23:32.282264Z",
     "iopub.status.busy": "2021-08-18T14:23:32.280249Z",
     "iopub.status.idle": "2021-08-18T14:23:32.283228Z",
     "shell.execute_reply": "2021-08-18T14:23:32.281317Z",
     "shell.execute_reply.started": "2021-08-18T14:11:03.218962Z"
    },
    "papermill": {
     "duration": 0.032646,
     "end_time": "2021-08-18T14:23:32.283478",
     "exception": false,
     "start_time": "2021-08-18T14:23:32.250832",
     "status": "completed"
    },
    "tags": []
   },
   "outputs": [],
   "source": [
    "def derivative(y_true,y_pred):\n",
    "    signum=np.sign(y_pred-y_true)\n",
    "    derivative=np.multiply(signum,3*(y_pred-y_true)**2)\n",
    "    return derivative"
   ]
  },
  {
   "cell_type": "code",
   "execution_count": 6,
   "id": "ab582c8f",
   "metadata": {
    "execution": {
     "iopub.execute_input": "2021-08-18T14:23:32.317544Z",
     "iopub.status.busy": "2021-08-18T14:23:32.316408Z",
     "iopub.status.idle": "2021-08-18T14:23:33.484382Z",
     "shell.execute_reply": "2021-08-18T14:23:33.485276Z",
     "shell.execute_reply.started": "2021-08-18T14:11:04.943945Z"
    },
    "papermill": {
     "duration": 1.186081,
     "end_time": "2021-08-18T14:23:33.485564",
     "exception": false,
     "start_time": "2021-08-18T14:23:32.299483",
     "status": "completed"
    },
    "tags": []
   },
   "outputs": [],
   "source": [
    "losses=[]\n",
    "for i in range(0,EPOCHS):\n",
    "    preds=np.dot(W.T,x_train)+b\n",
    "    dZ=derivative(y_train,preds)\n",
    "    #print(y_train.shape)\n",
    "    #print(x_train.shape)\n",
    "    W_grad=((np.dot(x_train,dZ.T)))/M\n",
    "    #print(W_grad)\n",
    "    b_grad=(1/M)*(np.sum(dZ))\n",
    "   # print(b_grad)\n",
    "    W=W-learning_rate*W_grad\n",
    "    b=b-learning_rate*b_grad\n",
    "    loss=compute_loss(y_train,preds)\n",
    "    losses.append(loss)\n",
    "    "
   ]
  },
  {
   "cell_type": "code",
   "execution_count": 7,
   "id": "f9ba398f",
   "metadata": {
    "execution": {
     "iopub.execute_input": "2021-08-18T14:23:33.654697Z",
     "iopub.status.busy": "2021-08-18T14:23:33.653695Z",
     "iopub.status.idle": "2021-08-18T14:23:33.842851Z",
     "shell.execute_reply": "2021-08-18T14:23:33.843368Z",
     "shell.execute_reply.started": "2021-08-18T14:11:08.568981Z"
    },
    "papermill": {
     "duration": 0.341249,
     "end_time": "2021-08-18T14:23:33.843554",
     "exception": false,
     "start_time": "2021-08-18T14:23:33.502305",
     "status": "completed"
    },
    "tags": []
   },
   "outputs": [
    {
     "data": {
      "image/png": "[encoded data removed]",
      "text/plain": [
       "<Figure size 432x288 with 1 Axes>"
      ]
     },
     "metadata": {
      "needs_background": "light"
     },
     "output_type": "display_data"
    }
   ],
   "source": [
    "x=lst = list(range(1,EPOCHS+1))\n",
    "y=losses\n",
    "plt.plot(x, y)\n",
    "  \n",
    "# naming the x axis\n",
    "plt.xlabel('x - axis')\n",
    "# naming the y axis\n",
    "plt.ylabel('y - axis')\n",
    "  \n",
    "# giving a title to my graph\n",
    "plt.title('Loss as function of Epochs')\n",
    "  \n",
    "# function to show the plot\n",
    "plt.show()"
   ]
  },
  {
   "cell_type": "code",
   "execution_count": 8,
   "id": "bb44d422",
   "metadata": {
    "execution": {
     "iopub.execute_input": "2021-08-18T14:23:33.867102Z",
     "iopub.status.busy": "2021-08-18T14:23:33.866424Z",
     "iopub.status.idle": "2021-08-18T14:23:33.872701Z",
     "shell.execute_reply": "2021-08-18T14:23:33.873203Z",
     "shell.execute_reply.started": "2021-08-18T14:11:11.787378Z"
    },
    "papermill": {
     "duration": 0.019941,
     "end_time": "2021-08-18T14:23:33.873421",
     "exception": false,
     "start_time": "2021-08-18T14:23:33.853480",
     "status": "completed"
    },
    "tags": []
   },
   "outputs": [
    {
     "name": "stdout",
     "output_type": "stream",
     "text": [
      "4.227160144739348e-06\n"
     ]
    }
   ],
   "source": [
    "print(losses[-1])"
   ]
  },
  {
   "cell_type": "code",
   "execution_count": 9,
   "id": "3cc62c41",
   "metadata": {
    "execution": {
     "iopub.execute_input": "2021-08-18T14:23:33.920706Z",
     "iopub.status.busy": "2021-08-18T14:23:33.919611Z",
     "iopub.status.idle": "2021-08-18T14:23:34.046602Z",
     "shell.execute_reply": "2021-08-18T14:23:34.047134Z",
     "shell.execute_reply.started": "2021-08-18T14:11:13.751007Z"
    },
    "papermill": {
     "duration": 0.162072,
     "end_time": "2021-08-18T14:23:34.047340",
     "exception": false,
     "start_time": "2021-08-18T14:23:33.885268",
     "status": "completed"
    },
    "tags": []
   },
   "outputs": [
    {
     "data": {
      "image/png": "[encoded data removed]",
      "text/plain": [
       "<Figure size 432x288 with 1 Axes>"
      ]
     },
     "metadata": {
      "needs_background": "light"
     },
     "output_type": "display_data"
    }
   ],
   "source": [
    "x=list(range(1,11+1))\n",
    "plt.plot(x, W_act.tolist(), 'r') \n",
    "plt.plot(x, W.tolist(), 'b') \n",
    "plt.show()"
   ]
  }
 ],
 "metadata": {
  "kernelspec": {
   "display_name": "Python 3",
   "language": "python",
   "name": "python3"
  },
  "language_info": {
   "codemirror_mode": {
    "name": "ipython",
    "version": 3
   },
   "file_extension": ".py",
   "mimetype": "text/x-python",
   "name": "python",
   "nbconvert_exporter": "python",
   "pygments_lexer": "ipython3",
   "version": "3.7.10"
  },
  "papermill": {
   "default_parameters": {},
   "duration": 12.817476,
   "end_time": "2021-08-18T14:23:34.770231",
   "environment_variables": {},
   "exception": null,
   "input_path": "__notebook__.ipynb",
   "output_path": "__notebook__.ipynb",
   "parameters": {},
   "start_time": "2021-08-18T14:23:21.952755",
   "version": "2.3.3"
  }
 },
 "nbformat": 4,
 "nbformat_minor": 5
}
