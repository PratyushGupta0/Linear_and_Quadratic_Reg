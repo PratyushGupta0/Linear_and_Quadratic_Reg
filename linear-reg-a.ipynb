{
 "cells": [
  {
   "cell_type": "code",
   "execution_count": 1,
   "id": "60c116ce",
   "metadata": {
    "_cell_guid": "b1076dfc-b9ad-4769-8c92-a6c4dae69d19",
    "_uuid": "8f2839f25d086af736a60e9eeb907d3b93b6e0e5",
    "execution": {
     "iopub.execute_input": "2021-08-19T09:50:33.520626Z",
     "iopub.status.busy": "2021-08-19T09:50:33.519297Z",
     "iopub.status.idle": "2021-08-19T09:50:33.540137Z",
     "shell.execute_reply": "2021-08-19T09:50:33.540626Z",
     "shell.execute_reply.started": "2021-08-18T14:13:32.871713Z"
    },
    "papermill": {
     "duration": 0.035644,
     "end_time": "2021-08-19T09:50:33.541010",
     "exception": false,
     "start_time": "2021-08-19T09:50:33.505366",
     "status": "completed"
    },
    "tags": []
   },
   "outputs": [
    {
     "name": "stdout",
     "output_type": "stream",
     "text": [
      "/kaggle/input/red-wine-quality-cortez-et-al-2009/winequality-red.csv\n"
     ]
    }
   ],
   "source": [
    "# This Python 3 environment comes with many helpful analytics libraries installed\n",
    "# It is defined by the kaggle/python Docker image: https://github.com/kaggle/docker-python\n",
    "# For example, here's several helpful packages to load\n",
    "\n",
    "import numpy as np # linear algebra\n",
    "import pandas as pd # data processing, CSV file I/O (e.g. pd.read_csv)\n",
    "import matplotlib.pyplot as plt\n",
    "# Input data files are available in the read-only \"../input/\" directory\n",
    "# For example, running this (by clicking run or pressing Shift+Enter) will list all files under the input directory\n",
    "\n",
    "import os\n",
    "for dirname, _, filenames in os.walk('/kaggle/input'):\n",
    "    for filename in filenames:\n",
    "        print(os.path.join(dirname, filename))\n",
    "\n",
    "# You can write up to 20GB to the current directory (/kaggle/working/) that gets preserved as output when you create a version using \"Save & Run All\" \n",
    "# You can also write temporary files to /kaggle/temp/, but they won't be saved outside of the current session"
   ]
  },
  {
   "cell_type": "code",
   "execution_count": 2,
   "id": "3d211186",
   "metadata": {
    "execution": {
     "iopub.execute_input": "2021-08-19T09:50:33.566380Z",
     "iopub.status.busy": "2021-08-19T09:50:33.565736Z",
     "iopub.status.idle": "2021-08-19T09:50:33.568339Z",
     "shell.execute_reply": "2021-08-19T09:50:33.568881Z",
     "shell.execute_reply.started": "2021-08-18T14:13:49.219751Z"
    },
    "papermill": {
     "duration": 0.017748,
     "end_time": "2021-08-19T09:50:33.569054",
     "exception": false,
     "start_time": "2021-08-19T09:50:33.551306",
     "status": "completed"
    },
    "tags": []
   },
   "outputs": [],
   "source": [
    "#setting hyperparameters\n",
    "M=1200  #number of examples\n",
    "EPOCHS=8000\n",
    "num_features=11 #length of feature vector\n",
    "learning_rate=0.01\n",
    "W=np.random.randn(num_features,1)\n",
    "b=np.random.randn(1,1)"
   ]
  },
  {
   "cell_type": "code",
   "execution_count": 3,
   "id": "85f2031f",
   "metadata": {
    "execution": {
     "iopub.execute_input": "2021-08-19T09:50:33.594087Z",
     "iopub.status.busy": "2021-08-19T09:50:33.593329Z",
     "iopub.status.idle": "2021-08-19T09:50:33.599442Z",
     "shell.execute_reply": "2021-08-19T09:50:33.600251Z",
     "shell.execute_reply.started": "2021-08-18T14:10:58.614032Z"
    },
    "papermill": {
     "duration": 0.021764,
     "end_time": "2021-08-19T09:50:33.600527",
     "exception": false,
     "start_time": "2021-08-19T09:50:33.578763",
     "status": "completed"
    },
    "tags": []
   },
   "outputs": [],
   "source": [
    "x_train=np.random.randn(num_features,1200)\n",
    "W_act=np.random.randn(num_features,1)\n",
    "b_act=np.random.randn(1,1)\n",
    "y_train=np.dot(W_act.T,x_train)+b_act"
   ]
  },
  {
   "cell_type": "code",
   "execution_count": 4,
   "id": "4117683c",
   "metadata": {
    "execution": {
     "iopub.execute_input": "2021-08-19T09:50:33.644636Z",
     "iopub.status.busy": "2021-08-19T09:50:33.643452Z",
     "iopub.status.idle": "2021-08-19T09:50:33.646439Z",
     "shell.execute_reply": "2021-08-19T09:50:33.645576Z",
     "shell.execute_reply.started": "2021-08-18T14:11:01.82528Z"
    },
    "papermill": {
     "duration": 0.029052,
     "end_time": "2021-08-19T09:50:33.646677",
     "exception": false,
     "start_time": "2021-08-19T09:50:33.617625",
     "status": "completed"
    },
    "tags": []
   },
   "outputs": [],
   "source": [
    "def compute_loss(y, y_pred):\n",
    "    loss = 1 / 2 * np.mean((y_pred - y)**2)\n",
    "    return loss"
   ]
  },
  {
   "cell_type": "code",
   "execution_count": 5,
   "id": "4cff74ae",
   "metadata": {
    "execution": {
     "iopub.execute_input": "2021-08-19T09:50:33.691031Z",
     "iopub.status.busy": "2021-08-19T09:50:33.689819Z",
     "iopub.status.idle": "2021-08-19T09:50:33.692825Z",
     "shell.execute_reply": "2021-08-19T09:50:33.691979Z",
     "shell.execute_reply.started": "2021-08-18T14:11:03.218962Z"
    },
    "papermill": {
     "duration": 0.029402,
     "end_time": "2021-08-19T09:50:33.693042",
     "exception": false,
     "start_time": "2021-08-19T09:50:33.663640",
     "status": "completed"
    },
    "tags": []
   },
   "outputs": [],
   "source": [
    "def derivative(y_true,y_pred):\n",
    "    signum=np.sign(y_pred-y_true)\n",
    "    derivative=np.multiply(signum,3*(y_pred-y_true)**2)\n",
    "    return derivative"
   ]
  },
  {
   "cell_type": "code",
   "execution_count": 6,
   "id": "b74a8d6e",
   "metadata": {
    "execution": {
     "iopub.execute_input": "2021-08-19T09:50:33.729997Z",
     "iopub.status.busy": "2021-08-19T09:50:33.728924Z",
     "iopub.status.idle": "2021-08-19T09:50:35.074529Z",
     "shell.execute_reply": "2021-08-19T09:50:35.075447Z",
     "shell.execute_reply.started": "2021-08-18T14:11:04.943945Z"
    },
    "papermill": {
     "duration": 1.366003,
     "end_time": "2021-08-19T09:50:35.075739",
     "exception": false,
     "start_time": "2021-08-19T09:50:33.709736",
     "status": "completed"
    },
    "tags": []
   },
   "outputs": [],
   "source": [
    "losses=[]\n",
    "for i in range(0,EPOCHS):\n",
    "    preds=np.dot(W.T,x_train)+b\n",
    "    dZ=derivative(y_train,preds)\n",
    "    #print(y_train.shape)\n",
    "    #print(x_train.shape)\n",
    "    W_grad=((np.dot(x_train,dZ.T)))/M\n",
    "    #print(W_grad)\n",
    "    b_grad=(1/M)*(np.sum(dZ))\n",
    "   # print(b_grad)\n",
    "    W=W-learning_rate*W_grad\n",
    "    b=b-learning_rate*b_grad\n",
    "    loss=compute_loss(y_train,preds)\n",
    "    losses.append(loss)\n",
    "    "
   ]
  },
  {
   "cell_type": "code",
   "execution_count": 7,
   "id": "882840a2",
   "metadata": {
    "execution": {
     "iopub.execute_input": "2021-08-19T09:50:35.118366Z",
     "iopub.status.busy": "2021-08-19T09:50:35.117338Z",
     "iopub.status.idle": "2021-08-19T09:50:35.429809Z",
     "shell.execute_reply": "2021-08-19T09:50:35.429154Z",
     "shell.execute_reply.started": "2021-08-18T14:11:08.568981Z"
    },
    "papermill": {
     "duration": 0.337464,
     "end_time": "2021-08-19T09:50:35.429949",
     "exception": false,
     "start_time": "2021-08-19T09:50:35.092485",
     "status": "completed"
    },
    "tags": []
   },
   "outputs": [
    {
     "data": {
      "image/png": "[encoded data removed]",
      "text/plain": [
       "<Figure size 432x288 with 1 Axes>"
      ]
     },
     "metadata": {
      "needs_background": "light"
     },
     "output_type": "display_data"
    }
   ],
   "source": [
    "x=lst = list(range(1,EPOCHS+1))\n",
    "y=losses\n",
    "plt.plot(x, y)\n",
    "  \n",
    "# naming the x axis\n",
    "plt.xlabel('x - axis')\n",
    "# naming the y axis\n",
    "plt.ylabel('y - axis')\n",
    "  \n",
    "# giving a title to my graph\n",
    "plt.title('Loss as function of Epochs')\n",
    "  \n",
    "# function to show the plot\n",
    "plt.show()"
   ]
  },
  {
   "cell_type": "code",
   "execution_count": 8,
   "id": "f05b0f78",
   "metadata": {
    "execution": {
     "iopub.execute_input": "2021-08-19T09:50:35.456090Z",
     "iopub.status.busy": "2021-08-19T09:50:35.455232Z",
     "iopub.status.idle": "2021-08-19T09:50:35.458193Z",
     "shell.execute_reply": "2021-08-19T09:50:35.458722Z",
     "shell.execute_reply.started": "2021-08-18T14:11:11.787378Z"
    },
    "papermill": {
     "duration": 0.018655,
     "end_time": "2021-08-19T09:50:35.458893",
     "exception": false,
     "start_time": "2021-08-19T09:50:35.440238",
     "status": "completed"
    },
    "tags": []
   },
   "outputs": [
    {
     "name": "stdout",
     "output_type": "stream",
     "text": [
      "4.058967481537171e-06\n"
     ]
    }
   ],
   "source": [
    "print(losses[-1])"
   ]
  },
  {
   "cell_type": "code",
   "execution_count": 9,
   "id": "748f2387",
   "metadata": {
    "execution": {
     "iopub.execute_input": "2021-08-19T09:50:35.507403Z",
     "iopub.status.busy": "2021-08-19T09:50:35.499250Z",
     "iopub.status.idle": "2021-08-19T09:50:35.615874Z",
     "shell.execute_reply": "2021-08-19T09:50:35.615273Z",
     "shell.execute_reply.started": "2021-08-18T14:11:13.751007Z"
    },
    "papermill": {
     "duration": 0.146511,
     "end_time": "2021-08-19T09:50:35.616017",
     "exception": false,
     "start_time": "2021-08-19T09:50:35.469506",
     "status": "completed"
    },
    "tags": []
   },
   "outputs": [
    {
     "data": {
      "image/png": "[encoded data removed]",
      "text/plain": [
       "<Figure size 432x288 with 1 Axes>"
      ]
     },
     "metadata": {
      "needs_background": "light"
     },
     "output_type": "display_data"
    }
   ],
   "source": [
    "#A plot of actual weights against trainable weights. Actual weights are in  red and trainable weights in blue.\n",
    "x=list(range(1,11+1))\n",
    "plt.plot(x, W_act.tolist(), 'r') \n",
    "plt.plot(x, W.tolist(), 'b') \n",
    "plt.show()"
   ]
  },
  {
   "cell_type": "code",
   "execution_count": 10,
   "id": "618ae862",
   "metadata": {
    "execution": {
     "iopub.execute_input": "2021-08-19T09:50:35.644406Z",
     "iopub.status.busy": "2021-08-19T09:50:35.643424Z",
     "iopub.status.idle": "2021-08-19T09:50:35.647176Z",
     "shell.execute_reply": "2021-08-19T09:50:35.646222Z"
    },
    "papermill": {
     "duration": 0.019347,
     "end_time": "2021-08-19T09:50:35.647334",
     "exception": false,
     "start_time": "2021-08-19T09:50:35.627987",
     "status": "completed"
    },
    "tags": []
   },
   "outputs": [],
   "source": [
    "# This loss is better than the (b) loss as it accounts for the distance between the true and predicted values. When they are\n",
    "# very far, it descends quickly and slows the descent closer to the objective. This results in slightly better results\n",
    "# compared to the (b) loss. The problem of exploding and vanishing gradients first appears here. The gradient can die off\n",
    "# close to the objective as there is an exponent of two associated withthe difference. Exploding gradients present a bigger\n",
    "# problem. If the loss is too big, then after being multiplied by the learning rate it has the potential to cause an\n",
    "# over-correction. This can lead to the loss in the second iteration being greater than before. This is because of the cube\n",
    "# in the loss."
   ]
  }
 ],
 "metadata": {
  "kernelspec": {
   "display_name": "Python 3",
   "language": "python",
   "name": "python3"
  },
  "language_info": {
   "codemirror_mode": {
    "name": "ipython",
    "version": 3
   },
   "file_extension": ".py",
   "mimetype": "text/x-python",
   "name": "python",
   "nbconvert_exporter": "python",
   "pygments_lexer": "ipython3",
   "version": "3.7.10"
  },
  "papermill": {
   "default_parameters": {},
   "duration": 11.762137,
   "end_time": "2021-08-19T09:50:37.326366",
   "environment_variables": {},
   "exception": null,
   "input_path": "__notebook__.ipynb",
   "output_path": "__notebook__.ipynb",
   "parameters": {},
   "start_time": "2021-08-19T09:50:25.564229",
   "version": "2.3.3"
  }
 },
 "nbformat": 4,
 "nbformat_minor": 5
}
