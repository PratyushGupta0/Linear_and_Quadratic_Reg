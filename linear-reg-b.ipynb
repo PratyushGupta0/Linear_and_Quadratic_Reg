{
 "cells": [
  {
   "cell_type": "code",
   "execution_count": 1,
   "id": "1edfe8a1",
   "metadata": {
    "_cell_guid": "b1076dfc-b9ad-4769-8c92-a6c4dae69d19",
    "_uuid": "8f2839f25d086af736a60e9eeb907d3b93b6e0e5",
    "execution": {
     "iopub.execute_input": "2021-08-19T09:47:54.710438Z",
     "iopub.status.busy": "2021-08-19T09:47:54.709097Z",
     "iopub.status.idle": "2021-08-19T09:47:54.722965Z",
     "shell.execute_reply": "2021-08-19T09:47:54.721898Z",
     "shell.execute_reply.started": "2021-08-18T15:50:27.099584Z"
    },
    "papermill": {
     "duration": 0.031609,
     "end_time": "2021-08-19T09:47:54.723132",
     "exception": false,
     "start_time": "2021-08-19T09:47:54.691523",
     "status": "completed"
    },
    "tags": []
   },
   "outputs": [],
   "source": [
    "# This Python 3 environment comes with many helpful analytics libraries installed\n",
    "# It is defined by the kaggle/python Docker image: https://github.com/kaggle/docker-python\n",
    "# For example, here's several helpful packages to load\n",
    "\n",
    "import numpy as np # linear algebra\n",
    "import pandas as pd # data processing, CSV file I/O (e.g. pd.read_csv)\n",
    "import matplotlib.pyplot as plt\n",
    "# Input data files are available in the read-only \"../input/\" directory\n",
    "# For example, running this (by clicking run or pressing Shift+Enter) will list all files under the input directory\n",
    "\n",
    "import os\n",
    "for dirname, _, filenames in os.walk('/kaggle/input'):\n",
    "    for filename in filenames:\n",
    "        print(os.path.join(dirname, filename))\n",
    "\n",
    "# You can write up to 20GB to the current directory (/kaggle/working/) that gets preserved as output when you create a version using \"Save & Run All\" \n",
    "# You can also write temporary files to /kaggle/temp/, but they won't be saved outside of the current session"
   ]
  },
  {
   "cell_type": "code",
   "execution_count": 2,
   "id": "315d176e",
   "metadata": {
    "execution": {
     "iopub.execute_input": "2021-08-19T09:47:54.750263Z",
     "iopub.status.busy": "2021-08-19T09:47:54.749411Z",
     "iopub.status.idle": "2021-08-19T09:47:54.752599Z",
     "shell.execute_reply": "2021-08-19T09:47:54.753112Z",
     "shell.execute_reply.started": "2021-08-18T15:50:35.94644Z"
    },
    "papermill": {
     "duration": 0.018274,
     "end_time": "2021-08-19T09:47:54.753289",
     "exception": false,
     "start_time": "2021-08-19T09:47:54.735015",
     "status": "completed"
    },
    "tags": []
   },
   "outputs": [],
   "source": [
    "#setting hyperparameters\n",
    "M=1200 #number of examples\n",
    "EPOCHS=20000 \n",
    "num_features=11 #length of input feature vector\n",
    "learning_rate=0.01"
   ]
  },
  {
   "cell_type": "code",
   "execution_count": 3,
   "id": "5897466a",
   "metadata": {
    "execution": {
     "iopub.execute_input": "2021-08-19T09:47:54.781623Z",
     "iopub.status.busy": "2021-08-19T09:47:54.780983Z",
     "iopub.status.idle": "2021-08-19T09:47:54.790093Z",
     "shell.execute_reply": "2021-08-19T09:47:54.790905Z",
     "shell.execute_reply.started": "2021-08-18T15:50:37.524288Z"
    },
    "papermill": {
     "duration": 0.024723,
     "end_time": "2021-08-19T09:47:54.791185",
     "exception": false,
     "start_time": "2021-08-19T09:47:54.766462",
     "status": "completed"
    },
    "tags": []
   },
   "outputs": [],
   "source": [
    "x_train=np.random.randn(num_features,1200) #Initializing training set\n",
    "W_act=np.random.randn(num_features,1) #Initializing actual weights\n",
    "b_act=np.random.randn(1,1)\n",
    "y_train=np.dot(W_act.T,x_train)+b_act "
   ]
  },
  {
   "cell_type": "code",
   "execution_count": 4,
   "id": "24c586b1",
   "metadata": {
    "execution": {
     "iopub.execute_input": "2021-08-19T09:47:54.832854Z",
     "iopub.status.busy": "2021-08-19T09:47:54.831833Z",
     "iopub.status.idle": "2021-08-19T09:47:54.834815Z",
     "shell.execute_reply": "2021-08-19T09:47:54.835772Z",
     "shell.execute_reply.started": "2021-08-18T15:50:39.573161Z"
    },
    "papermill": {
     "duration": 0.027271,
     "end_time": "2021-08-19T09:47:54.836038",
     "exception": false,
     "start_time": "2021-08-19T09:47:54.808767",
     "status": "completed"
    },
    "tags": []
   },
   "outputs": [],
   "source": [
    "#Initializing trainable weights\n",
    "W=np.random.randn(num_features,1)\n",
    "b=np.random.randn(1,1)"
   ]
  },
  {
   "cell_type": "code",
   "execution_count": 5,
   "id": "c3c4ffbd",
   "metadata": {
    "execution": {
     "iopub.execute_input": "2021-08-19T09:47:54.878374Z",
     "iopub.status.busy": "2021-08-19T09:47:54.877348Z",
     "iopub.status.idle": "2021-08-19T09:47:54.879608Z",
     "shell.execute_reply": "2021-08-19T09:47:54.880545Z",
     "shell.execute_reply.started": "2021-08-18T15:50:42.091559Z"
    },
    "papermill": {
     "duration": 0.027186,
     "end_time": "2021-08-19T09:47:54.880820",
     "exception": false,
     "start_time": "2021-08-19T09:47:54.853634",
     "status": "completed"
    },
    "tags": []
   },
   "outputs": [],
   "source": [
    "#Computes the MSE loss\n",
    "def compute_loss(y, y_pred):\n",
    "    loss = 1 / 2 * np.mean((y_pred - y)**2)\n",
    "    return loss"
   ]
  },
  {
   "cell_type": "code",
   "execution_count": 6,
   "id": "82a9a5b1",
   "metadata": {
    "execution": {
     "iopub.execute_input": "2021-08-19T09:47:54.916840Z",
     "iopub.status.busy": "2021-08-19T09:47:54.915824Z",
     "iopub.status.idle": "2021-08-19T09:47:54.918742Z",
     "shell.execute_reply": "2021-08-19T09:47:54.918241Z",
     "shell.execute_reply.started": "2021-08-18T15:50:45.496288Z"
    },
    "papermill": {
     "duration": 0.020721,
     "end_time": "2021-08-19T09:47:54.918891",
     "exception": false,
     "start_time": "2021-08-19T09:47:54.898170",
     "status": "completed"
    },
    "tags": []
   },
   "outputs": [],
   "source": [
    "#Takes the derivative of the loss functions\n",
    "def derivative(y_true,y_pred):\n",
    "    derivative=np.sign(y_pred-y_true)\n",
    "    return derivative"
   ]
  },
  {
   "cell_type": "code",
   "execution_count": 7,
   "id": "31a22540",
   "metadata": {
    "execution": {
     "iopub.execute_input": "2021-08-19T09:47:54.946525Z",
     "iopub.status.busy": "2021-08-19T09:47:54.945425Z",
     "iopub.status.idle": "2021-08-19T09:47:57.313352Z",
     "shell.execute_reply": "2021-08-19T09:47:57.314511Z",
     "shell.execute_reply.started": "2021-08-18T15:50:51.638642Z"
    },
    "papermill": {
     "duration": 2.385833,
     "end_time": "2021-08-19T09:47:57.314818",
     "exception": false,
     "start_time": "2021-08-19T09:47:54.928985",
     "status": "completed"
    },
    "tags": []
   },
   "outputs": [],
   "source": [
    "#The training loop\n",
    "losses=[]\n",
    "for i in range(0,EPOCHS):\n",
    "    preds=np.dot(W.T,x_train)+b\n",
    "    dZ=derivative(y_train,preds)\n",
    "    W_grad=((np.dot(x_train,dZ.T)))/M\n",
    "    b_grad=(1/M)*(np.sum(dZ))\n",
    "    W=W-learning_rate*W_grad\n",
    "    b=b-learning_rate*b_grad\n",
    "    loss=compute_loss(y_train,preds)\n",
    "    losses.append(loss)\n",
    "    "
   ]
  },
  {
   "cell_type": "code",
   "execution_count": 8,
   "id": "9f623531",
   "metadata": {
    "execution": {
     "iopub.execute_input": "2021-08-19T09:47:57.360345Z",
     "iopub.status.busy": "2021-08-19T09:47:57.359198Z",
     "iopub.status.idle": "2021-08-19T09:47:57.666440Z",
     "shell.execute_reply": "2021-08-19T09:47:57.665816Z",
     "shell.execute_reply.started": "2021-08-18T15:51:41.289189Z"
    },
    "papermill": {
     "duration": 0.334085,
     "end_time": "2021-08-19T09:47:57.666588",
     "exception": false,
     "start_time": "2021-08-19T09:47:57.332503",
     "status": "completed"
    },
    "tags": []
   },
   "outputs": [
    {
     "data": {
      "image/png": "[encoded data removed]",
      "text/plain": [
       "<Figure size 432x288 with 1 Axes>"
      ]
     },
     "metadata": {
      "needs_background": "light"
     },
     "output_type": "display_data"
    }
   ],
   "source": [
    "x=list(range(1,EPOCHS+1))\n",
    "y=losses\n",
    "plt.plot(x, y)\n",
    "plt.xlabel('EPOCHS')\n",
    "plt.ylabel('MSE')\n",
    "plt.title('Loss as function of Epochs')\n",
    "plt.show()"
   ]
  },
  {
   "cell_type": "code",
   "execution_count": 9,
   "id": "726e995b",
   "metadata": {
    "execution": {
     "iopub.execute_input": "2021-08-19T09:47:57.694086Z",
     "iopub.status.busy": "2021-08-19T09:47:57.693432Z",
     "iopub.status.idle": "2021-08-19T09:47:57.696492Z",
     "shell.execute_reply": "2021-08-19T09:47:57.696964Z",
     "shell.execute_reply.started": "2021-08-18T15:51:45.644396Z"
    },
    "papermill": {
     "duration": 0.019315,
     "end_time": "2021-08-19T09:47:57.697135",
     "exception": false,
     "start_time": "2021-08-19T09:47:57.677820",
     "status": "completed"
    },
    "tags": []
   },
   "outputs": [
    {
     "name": "stdout",
     "output_type": "stream",
     "text": [
      "3.436706372662114e-05\n"
     ]
    }
   ],
   "source": [
    "final_loss=losses[-1]\n",
    "print(final_loss)"
   ]
  },
  {
   "cell_type": "code",
   "execution_count": 10,
   "id": "384f0ad4",
   "metadata": {
    "execution": {
     "iopub.execute_input": "2021-08-19T09:47:57.743944Z",
     "iopub.status.busy": "2021-08-19T09:47:57.740033Z",
     "iopub.status.idle": "2021-08-19T09:47:57.854980Z",
     "shell.execute_reply": "2021-08-19T09:47:57.854448Z",
     "shell.execute_reply.started": "2021-08-18T15:51:48.440746Z"
    },
    "papermill": {
     "duration": 0.146803,
     "end_time": "2021-08-19T09:47:57.855129",
     "exception": false,
     "start_time": "2021-08-19T09:47:57.708326",
     "status": "completed"
    },
    "tags": []
   },
   "outputs": [
    {
     "data": {
      "image/png": "[encoded data removed]",
      "text/plain": [
       "<Figure size 432x288 with 1 Axes>"
      ]
     },
     "metadata": {
      "needs_background": "light"
     },
     "output_type": "display_data"
    }
   ],
   "source": [
    "#A plot of actual weights against trainable weights. Actual weights are in  red and trainable weights in blue.\n",
    "x=list(range(1,11+1))\n",
    "plt.plot(x, W_act.tolist(), 'r') \n",
    "plt.plot(x, W.tolist(), 'b')  \n",
    "plt.show()"
   ]
  },
  {
   "cell_type": "code",
   "execution_count": 11,
   "id": "fd916819",
   "metadata": {
    "execution": {
     "iopub.execute_input": "2021-08-19T09:47:57.884207Z",
     "iopub.status.busy": "2021-08-19T09:47:57.883440Z",
     "iopub.status.idle": "2021-08-19T09:47:57.886812Z",
     "shell.execute_reply": "2021-08-19T09:47:57.886141Z"
    },
    "papermill": {
     "duration": 0.019577,
     "end_time": "2021-08-19T09:47:57.886954",
     "exception": false,
     "start_time": "2021-08-19T09:47:57.867377",
     "status": "completed"
    },
    "tags": []
   },
   "outputs": [],
   "source": [
    "# This loss applies a constant magnitude gradient for any difference between the true and predicted values. This means it does\n",
    "# not suffer from the issue of exploding and vanishing gradients. But this also means that gradient descent can be very slow\n",
    "# if the weights are very far from the true weights. Since it does not account for the distance, the initial values of the\n",
    "# trainable weights must be somewhat close to the actual weights. In this case since, bothe the actual and trainabole weights\n",
    "# are drawn the same gaussian distribution, we do not face this issue, However in a general problem, this may be major issue.\n",
    "\n",
    "# Apart from this there is another problem with this loss. When the weights are very close to their true values, we do not \n",
    "# want major changes to the weights. We only want to gradually nudge the weights in the correct direction. However the\n",
    "# constant gradient offered by this loss means there may be an 'overshooting' problem as the gradients over-correct the\n",
    "# weights repeatedly preventing the loss from decresing beyond a certain value. The asymptote seen here is most probably\n",
    "# a manifestation of that."
   ]
  }
 ],
 "metadata": {
  "kernelspec": {
   "display_name": "Python 3",
   "language": "python",
   "name": "python3"
  },
  "language_info": {
   "codemirror_mode": {
    "name": "ipython",
    "version": 3
   },
   "file_extension": ".py",
   "mimetype": "text/x-python",
   "name": "python",
   "nbconvert_exporter": "python",
   "pygments_lexer": "ipython3",
   "version": "3.7.10"
  },
  "papermill": {
   "default_parameters": {},
   "duration": 12.861764,
   "end_time": "2021-08-19T09:47:59.242952",
   "environment_variables": {},
   "exception": null,
   "input_path": "__notebook__.ipynb",
   "output_path": "__notebook__.ipynb",
   "parameters": {},
   "start_time": "2021-08-19T09:47:46.381188",
   "version": "2.3.3"
  }
 },
 "nbformat": 4,
 "nbformat_minor": 5
}
