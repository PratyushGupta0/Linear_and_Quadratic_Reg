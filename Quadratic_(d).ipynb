{
 "cells": [
  {
   "cell_type": "code",
   "execution_count": 1,
   "id": "65b287a0",
   "metadata": {
    "_cell_guid": "b1076dfc-b9ad-4769-8c92-a6c4dae69d19",
    "_uuid": "8f2839f25d086af736a60e9eeb907d3b93b6e0e5",
    "execution": {
     "iopub.execute_input": "2021-08-18T16:14:04.357742Z",
     "iopub.status.busy": "2021-08-18T16:14:04.356562Z",
     "iopub.status.idle": "2021-08-18T16:14:04.380351Z",
     "shell.execute_reply": "2021-08-18T16:14:04.380878Z",
     "shell.execute_reply.started": "2021-08-18T16:10:18.160623Z"
    },
    "papermill": {
     "duration": 0.042282,
     "end_time": "2021-08-18T16:14:04.381236",
     "exception": false,
     "start_time": "2021-08-18T16:14:04.338954",
     "status": "completed"
    },
    "tags": []
   },
   "outputs": [
    {
     "name": "stdout",
     "output_type": "stream",
     "text": [
      "/kaggle/input/red-wine-quality-cortez-et-al-2009/winequality-red.csv\n"
     ]
    }
   ],
   "source": [
    "# This Python 3 environment comes with many helpful analytics libraries installed\n",
    "# It is defined by the kaggle/python Docker image: https://github.com/kaggle/docker-python\n",
    "# For example, here's several helpful packages to load\n",
    "\n",
    "import numpy as np # linear algebra\n",
    "import pandas as pd # data processing, CSV file I/O (e.g. pd.read_csv)\n",
    "import matplotlib.pyplot as plt\n",
    "\n",
    "# Input data files are available in the read-only \"../input/\" directory\n",
    "# For example, running this (by clicking run or pressing Shift+Enter) will list all files under the input directory\n",
    "\n",
    "import os\n",
    "for dirname, _, filenames in os.walk('/kaggle/input'):\n",
    "    for filename in filenames:\n",
    "        print(os.path.join(dirname, filename))\n",
    "\n",
    "# You can write up to 20GB to the current directory (/kaggle/working/) that gets preserved as output when you create a version using \"Save & Run All\" \n",
    "# You can also write temporary files to /kaggle/temp/, but they won't be saved outside of the current session"
   ]
  },
  {
   "cell_type": "code",
   "execution_count": 2,
   "id": "e0c5b5eb",
   "metadata": {
    "execution": {
     "iopub.execute_input": "2021-08-18T16:14:04.411365Z",
     "iopub.status.busy": "2021-08-18T16:14:04.410680Z",
     "iopub.status.idle": "2021-08-18T16:14:04.414315Z",
     "shell.execute_reply": "2021-08-18T16:14:04.414859Z",
     "shell.execute_reply.started": "2021-08-18T16:10:52.299233Z"
    },
    "papermill": {
     "duration": 0.019707,
     "end_time": "2021-08-18T16:14:04.415044",
     "exception": false,
     "start_time": "2021-08-18T16:14:04.395337",
     "status": "completed"
    },
    "tags": []
   },
   "outputs": [],
   "source": [
    "M=1200\n",
    "EPOCHS=20000\n",
    "num_features=11\n",
    "learning_rate=0.0000000001"
   ]
  },
  {
   "cell_type": "code",
   "execution_count": 3,
   "id": "02da15aa",
   "metadata": {
    "execution": {
     "iopub.execute_input": "2021-08-18T16:14:04.444188Z",
     "iopub.status.busy": "2021-08-18T16:14:04.443535Z",
     "iopub.status.idle": "2021-08-18T16:14:04.454185Z",
     "shell.execute_reply": "2021-08-18T16:14:04.454984Z",
     "shell.execute_reply.started": "2021-08-18T16:10:56.354503Z"
    },
    "papermill": {
     "duration": 0.027224,
     "end_time": "2021-08-18T16:14:04.455328",
     "exception": false,
     "start_time": "2021-08-18T16:14:04.428104",
     "status": "completed"
    },
    "tags": []
   },
   "outputs": [],
   "source": [
    "x_train=np.random.randn(num_features,1200)\n",
    "W1_act=np.random.randn(num_features,1)\n",
    "W2_act=np.random.randn(num_features,1)\n",
    "b_act=np.random.randn(1,1)\n",
    "y_train=np.dot(W1_act.T,x_train)+b_act+np.dot(W2_act.T,x_train**2)"
   ]
  },
  {
   "cell_type": "code",
   "execution_count": 4,
   "id": "f02ae312",
   "metadata": {
    "execution": {
     "iopub.execute_input": "2021-08-18T16:14:04.512224Z",
     "iopub.status.busy": "2021-08-18T16:14:04.510972Z",
     "iopub.status.idle": "2021-08-18T16:14:04.514050Z",
     "shell.execute_reply": "2021-08-18T16:14:04.513165Z",
     "shell.execute_reply.started": "2021-08-18T16:10:59.295313Z"
    },
    "papermill": {
     "duration": 0.036133,
     "end_time": "2021-08-18T16:14:04.514290",
     "exception": false,
     "start_time": "2021-08-18T16:14:04.478157",
     "status": "completed"
    },
    "tags": []
   },
   "outputs": [],
   "source": [
    "def compute_loss(y, y_pred):\n",
    "    loss = 1 / 2 * np.mean((y_pred - y)**2)\n",
    "    return loss"
   ]
  },
  {
   "cell_type": "code",
   "execution_count": 5,
   "id": "00565de7",
   "metadata": {
    "execution": {
     "iopub.execute_input": "2021-08-18T16:14:04.570734Z",
     "iopub.status.busy": "2021-08-18T16:14:04.569366Z",
     "iopub.status.idle": "2021-08-18T16:14:04.571958Z",
     "shell.execute_reply": "2021-08-18T16:14:04.571378Z",
     "shell.execute_reply.started": "2021-08-18T16:11:01.195681Z"
    },
    "papermill": {
     "duration": 0.035296,
     "end_time": "2021-08-18T16:14:04.572145",
     "exception": false,
     "start_time": "2021-08-18T16:14:04.536849",
     "status": "completed"
    },
    "tags": []
   },
   "outputs": [],
   "source": [
    "def derivative(y_true,y_pred):\n",
    "    signum=np.sign(y_pred-y_true)\n",
    "    derivative=np.multiply(signum,7*(y_pred-y_true)**6)\n",
    "    return derivative"
   ]
  },
  {
   "cell_type": "code",
   "execution_count": 6,
   "id": "a33631d2",
   "metadata": {
    "execution": {
     "iopub.execute_input": "2021-08-18T16:14:04.610208Z",
     "iopub.status.busy": "2021-08-18T16:14:04.609204Z",
     "iopub.status.idle": "2021-08-18T16:14:04.613543Z",
     "shell.execute_reply": "2021-08-18T16:14:04.612934Z",
     "shell.execute_reply.started": "2021-08-18T16:11:03.283984Z"
    },
    "papermill": {
     "duration": 0.027499,
     "end_time": "2021-08-18T16:14:04.613735",
     "exception": false,
     "start_time": "2021-08-18T16:14:04.586236",
     "status": "completed"
    },
    "tags": []
   },
   "outputs": [],
   "source": [
    "def second_input(x_train):\n",
    "    return x_train**2\n",
    "squared=second_input(x_train)"
   ]
  },
  {
   "cell_type": "code",
   "execution_count": 7,
   "id": "d4cd5207",
   "metadata": {
    "execution": {
     "iopub.execute_input": "2021-08-18T16:14:04.652781Z",
     "iopub.status.busy": "2021-08-18T16:14:04.648430Z",
     "iopub.status.idle": "2021-08-18T16:14:04.657652Z",
     "shell.execute_reply": "2021-08-18T16:14:04.656488Z",
     "shell.execute_reply.started": "2021-08-18T16:11:04.768716Z"
    },
    "papermill": {
     "duration": 0.029982,
     "end_time": "2021-08-18T16:14:04.657910",
     "exception": false,
     "start_time": "2021-08-18T16:14:04.627928",
     "status": "completed"
    },
    "tags": []
   },
   "outputs": [],
   "source": [
    "W1=np.random.randn(num_features,1)\n",
    "W2=np.random.randn(num_features,1)\n",
    "b=np.random.randn(1,1)"
   ]
  },
  {
   "cell_type": "code",
   "execution_count": 8,
   "id": "9edd5f03",
   "metadata": {
    "execution": {
     "iopub.execute_input": "2021-08-18T16:14:04.700039Z",
     "iopub.status.busy": "2021-08-18T16:14:04.699036Z",
     "iopub.status.idle": "2021-08-18T16:14:13.309491Z",
     "shell.execute_reply": "2021-08-18T16:14:13.310385Z",
     "shell.execute_reply.started": "2021-08-18T16:11:10.400327Z"
    },
    "papermill": {
     "duration": 8.635738,
     "end_time": "2021-08-18T16:14:13.310699",
     "exception": false,
     "start_time": "2021-08-18T16:14:04.674961",
     "status": "completed"
    },
    "tags": []
   },
   "outputs": [],
   "source": [
    "losses=[]\n",
    "for i in range(0,EPOCHS):\n",
    "        preds=np.dot(W1.T,x_train)+np.dot(W2.T,squared)+b\n",
    "        dZ=derivative(y_train,preds)\n",
    "        #print(y_train.shape)\n",
    "        #print(x_train.shape)\n",
    "        W1_grad=((np.dot(x_train,dZ.T)))/M\n",
    "        W2_grad=((np.dot(squared,dZ.T)))/M\n",
    "        #print(W_grad)\n",
    "        b_grad=(1/M)*(np.sum(dZ))\n",
    "       # print(b_grad)\n",
    "        W1=W1-learning_rate*W1_grad\n",
    "        W2=W2-learning_rate*W2_grad\n",
    "        b=b-learning_rate*b_grad\n",
    "        loss=compute_loss(y_train,preds)\n",
    "        losses.append(loss)"
   ]
  },
  {
   "cell_type": "code",
   "execution_count": 9,
   "id": "b52ebde0",
   "metadata": {
    "execution": {
     "iopub.execute_input": "2021-08-18T16:14:13.368090Z",
     "iopub.status.busy": "2021-08-18T16:14:13.367073Z",
     "iopub.status.idle": "2021-08-18T16:14:17.436865Z",
     "shell.execute_reply": "2021-08-18T16:14:17.437854Z",
     "shell.execute_reply.started": "2021-08-18T16:11:46.533302Z"
    },
    "papermill": {
     "duration": 4.104859,
     "end_time": "2021-08-18T16:14:17.438128",
     "exception": false,
     "start_time": "2021-08-18T16:14:13.333269",
     "status": "completed"
    },
    "tags": []
   },
   "outputs": [],
   "source": [
    "for i in range(0,10000):\n",
    "        preds=np.dot(W1.T,x_train)+np.dot(W2.T,squared)+b\n",
    "        dZ=derivative(y_train,preds)\n",
    "        #print(y_train.shape)\n",
    "        #print(x_train.shape)\n",
    "        W1_grad=((np.dot(x_train,dZ.T)))/M\n",
    "        W2_grad=((np.dot(squared,dZ.T)))/M\n",
    "        #print(W_grad)\n",
    "        b_grad=(1/M)*(np.sum(dZ))\n",
    "       # print(b_grad)\n",
    "        W1=W1-learning_rate*1000*W1_grad\n",
    "        W2=W2-learning_rate*1000*W2_grad\n",
    "        b=b-learning_rate*1000*b_grad\n",
    "        loss=compute_loss(y_train,preds)\n",
    "        losses.append(loss)"
   ]
  },
  {
   "cell_type": "code",
   "execution_count": 10,
   "id": "d597774b",
   "metadata": {
    "execution": {
     "iopub.execute_input": "2021-08-18T16:14:17.493969Z",
     "iopub.status.busy": "2021-08-18T16:14:17.492942Z",
     "iopub.status.idle": "2021-08-18T16:14:19.446038Z",
     "shell.execute_reply": "2021-08-18T16:14:19.446937Z",
     "shell.execute_reply.started": "2021-08-18T16:13:31.242369Z"
    },
    "papermill": {
     "duration": 1.986875,
     "end_time": "2021-08-18T16:14:19.447246",
     "exception": false,
     "start_time": "2021-08-18T16:14:17.460371",
     "status": "completed"
    },
    "tags": []
   },
   "outputs": [],
   "source": [
    "for i in range(0,5000):\n",
    "        preds=np.dot(W1.T,x_train)+np.dot(W2.T,squared)+b\n",
    "        dZ=derivative(y_train,preds)\n",
    "        #print(y_train.shape)\n",
    "        #print(x_train.shape)\n",
    "        W1_grad=((np.dot(x_train,dZ.T)))/M\n",
    "        W2_grad=((np.dot(squared,dZ.T)))/M\n",
    "        #print(W_grad)\n",
    "        b_grad=(1/M)*(np.sum(dZ))\n",
    "       # print(b_grad)\n",
    "        W1=W1-learning_rate*100000*W1_grad\n",
    "        W2=W2-learning_rate*100000*W2_grad\n",
    "        b=b-learning_rate*100000*b_grad\n",
    "        loss=compute_loss(y_train,preds)\n",
    "        losses.append(loss)"
   ]
  },
  {
   "cell_type": "code",
   "execution_count": 11,
   "id": "c3d18b23",
   "metadata": {
    "execution": {
     "iopub.execute_input": "2021-08-18T16:14:19.506475Z",
     "iopub.status.busy": "2021-08-18T16:14:19.505454Z",
     "iopub.status.idle": "2021-08-18T16:14:19.874039Z",
     "shell.execute_reply": "2021-08-18T16:14:19.874541Z",
     "shell.execute_reply.started": "2021-08-18T16:13:35.652552Z"
    },
    "papermill": {
     "duration": 0.404497,
     "end_time": "2021-08-18T16:14:19.874751",
     "exception": false,
     "start_time": "2021-08-18T16:14:19.470254",
     "status": "completed"
    },
    "tags": []
   },
   "outputs": [
    {
     "data": {
      "image/png": "[encoded data removed]",
      "text/plain": [
       "<Figure size 432x288 with 1 Axes>"
      ]
     },
     "metadata": {
      "needs_background": "light"
     },
     "output_type": "display_data"
    }
   ],
   "source": [
    "x=list(range(1,EPOCHS+1+15000))\n",
    "y=losses\n",
    "plt.plot(x, y)\n",
    "plt.xlabel('x - axis')\n",
    "plt.ylabel('y - axis')\n",
    "plt.title('Loss as function of Epochs')\n",
    "plt.show()"
   ]
  },
  {
   "cell_type": "code",
   "execution_count": 12,
   "id": "b477c011",
   "metadata": {
    "execution": {
     "iopub.execute_input": "2021-08-18T16:14:19.906016Z",
     "iopub.status.busy": "2021-08-18T16:14:19.905363Z",
     "iopub.status.idle": "2021-08-18T16:14:19.912289Z",
     "shell.execute_reply": "2021-08-18T16:14:19.911472Z",
     "shell.execute_reply.started": "2021-08-18T16:13:39.276122Z"
    },
    "papermill": {
     "duration": 0.023747,
     "end_time": "2021-08-18T16:14:19.912463",
     "exception": false,
     "start_time": "2021-08-18T16:14:19.888716",
     "status": "completed"
    },
    "tags": []
   },
   "outputs": [
    {
     "data": {
      "text/plain": [
       "0.14670966450914916"
      ]
     },
     "execution_count": 12,
     "metadata": {},
     "output_type": "execute_result"
    }
   ],
   "source": [
    "losses[-1]"
   ]
  },
  {
   "cell_type": "code",
   "execution_count": 13,
   "id": "0fb0f0da",
   "metadata": {
    "execution": {
     "iopub.execute_input": "2021-08-18T16:14:19.992306Z",
     "iopub.status.busy": "2021-08-18T16:14:19.991537Z",
     "iopub.status.idle": "2021-08-18T16:14:20.079781Z",
     "shell.execute_reply": "2021-08-18T16:14:20.079098Z",
     "shell.execute_reply.started": "2021-08-18T16:13:40.954086Z"
    },
    "papermill": {
     "duration": 0.152782,
     "end_time": "2021-08-18T16:14:20.079950",
     "exception": false,
     "start_time": "2021-08-18T16:14:19.927168",
     "status": "completed"
    },
    "tags": []
   },
   "outputs": [
    {
     "data": {
      "image/png": "[encoded data removed]",
      "text/plain": [
       "<Figure size 432x288 with 1 Axes>"
      ]
     },
     "metadata": {
      "needs_background": "light"
     },
     "output_type": "display_data"
    }
   ],
   "source": [
    "x=list(range(1,11+1))\n",
    "plt.plot(x, W1_act.tolist(), 'r') \n",
    "plt.plot(x, W1.tolist(), 'b')  \n",
    "plt.show()"
   ]
  },
  {
   "cell_type": "code",
   "execution_count": 14,
   "id": "68af4390",
   "metadata": {
    "execution": {
     "iopub.execute_input": "2021-08-18T16:14:20.114958Z",
     "iopub.status.busy": "2021-08-18T16:14:20.113909Z",
     "iopub.status.idle": "2021-08-18T16:14:20.263416Z",
     "shell.execute_reply": "2021-08-18T16:14:20.264037Z",
     "shell.execute_reply.started": "2021-08-18T16:13:43.513557Z"
    },
    "papermill": {
     "duration": 0.168923,
     "end_time": "2021-08-18T16:14:20.264239",
     "exception": false,
     "start_time": "2021-08-18T16:14:20.095316",
     "status": "completed"
    },
    "tags": []
   },
   "outputs": [
    {
     "data": {
      "image/png": "[encoded data removed]",
      "text/plain": [
       "<Figure size 432x288 with 1 Axes>"
      ]
     },
     "metadata": {
      "needs_background": "light"
     },
     "output_type": "display_data"
    }
   ],
   "source": [
    "x=list(range(1,11+1))\n",
    "plt.plot(x, W2_act.tolist(), 'r') \n",
    "plt.plot(x, W2.tolist(), 'b') \n",
    "plt.show()"
   ]
  }
 ],
 "metadata": {
  "kernelspec": {
   "display_name": "Python 3",
   "language": "python",
   "name": "python3"
  },
  "language_info": {
   "codemirror_mode": {
    "name": "ipython",
    "version": 3
   },
   "file_extension": ".py",
   "mimetype": "text/x-python",
   "name": "python",
   "nbconvert_exporter": "python",
   "pygments_lexer": "ipython3",
   "version": "3.7.10"
  },
  "papermill": {
   "default_parameters": {},
   "duration": 25.830829,
   "end_time": "2021-08-18T16:14:21.577026",
   "environment_variables": {},
   "exception": null,
   "input_path": "__notebook__.ipynb",
   "output_path": "__notebook__.ipynb",
   "parameters": {},
   "start_time": "2021-08-18T16:13:55.746197",
   "version": "2.3.3"
  }
 },
 "nbformat": 4,
 "nbformat_minor": 5
}
