{
 "cells": [
  {
   "cell_type": "code",
   "execution_count": 1,
   "id": "86f764b9",
   "metadata": {
    "_cell_guid": "b1076dfc-b9ad-4769-8c92-a6c4dae69d19",
    "_uuid": "8f2839f25d086af736a60e9eeb907d3b93b6e0e5",
    "execution": {
     "iopub.execute_input": "2021-08-18T14:23:32.562962Z",
     "iopub.status.busy": "2021-08-18T14:23:32.561561Z",
     "iopub.status.idle": "2021-08-18T14:23:32.578484Z",
     "shell.execute_reply": "2021-08-18T14:23:32.577780Z",
     "shell.execute_reply.started": "2021-08-18T14:16:48.548555Z"
    },
    "papermill": {
     "duration": 0.034453,
     "end_time": "2021-08-18T14:23:32.578655",
     "exception": false,
     "start_time": "2021-08-18T14:23:32.544202",
     "status": "completed"
    },
    "tags": []
   },
   "outputs": [
    {
     "name": "stdout",
     "output_type": "stream",
     "text": [
      "/kaggle/input/red-wine-quality-cortez-et-al-2009/winequality-red.csv\n"
     ]
    }
   ],
   "source": [
    "# This Python 3 environment comes with many helpful analytics libraries installed\n",
    "# It is defined by the kaggle/python Docker image: https://github.com/kaggle/docker-python\n",
    "# For example, here's several helpful packages to load\n",
    "\n",
    "import numpy as np # linear algebra\n",
    "import pandas as pd # data processing, CSV file I/O (e.g. pd.read_csv)\n",
    "import matplotlib.pyplot as plt\n",
    "\n",
    "# Input data files are available in the read-only \"../input/\" directory\n",
    "# For example, running this (by clicking run or pressing Shift+Enter) will list all files under the input directory\n",
    "\n",
    "import os\n",
    "for dirname, _, filenames in os.walk('/kaggle/input'):\n",
    "    for filename in filenames:\n",
    "        print(os.path.join(dirname, filename))\n",
    "\n",
    "# You can write up to 20GB to the current directory (/kaggle/working/) that gets preserved as output when you create a version using \"Save & Run All\" \n",
    "# You can also write temporary files to /kaggle/temp/, but they won't be saved outside of the current session"
   ]
  },
  {
   "cell_type": "code",
   "execution_count": 2,
   "id": "99cc15f1",
   "metadata": {
    "execution": {
     "iopub.execute_input": "2021-08-18T14:23:32.607386Z",
     "iopub.status.busy": "2021-08-18T14:23:32.606681Z",
     "iopub.status.idle": "2021-08-18T14:23:32.610118Z",
     "shell.execute_reply": "2021-08-18T14:23:32.609596Z",
     "shell.execute_reply.started": "2021-08-18T14:21:38.304354Z"
    },
    "papermill": {
     "duration": 0.01944,
     "end_time": "2021-08-18T14:23:32.610258",
     "exception": false,
     "start_time": "2021-08-18T14:23:32.590818",
     "status": "completed"
    },
    "tags": []
   },
   "outputs": [],
   "source": [
    "M=1200\n",
    "EPOCHS=20000\n",
    "num_features=11\n",
    "learning_rate=0.0001"
   ]
  },
  {
   "cell_type": "code",
   "execution_count": 3,
   "id": "c274783c",
   "metadata": {
    "execution": {
     "iopub.execute_input": "2021-08-18T14:23:32.641564Z",
     "iopub.status.busy": "2021-08-18T14:23:32.639019Z",
     "iopub.status.idle": "2021-08-18T14:23:32.647103Z",
     "shell.execute_reply": "2021-08-18T14:23:32.648016Z",
     "shell.execute_reply.started": "2021-08-18T14:21:40.334616Z"
    },
    "papermill": {
     "duration": 0.026371,
     "end_time": "2021-08-18T14:23:32.648296",
     "exception": false,
     "start_time": "2021-08-18T14:23:32.621925",
     "status": "completed"
    },
    "tags": []
   },
   "outputs": [],
   "source": [
    "x_train=np.random.randn(num_features,1200)\n",
    "W1_act=np.random.randn(num_features,1)\n",
    "W2_act=np.random.randn(num_features,1)\n",
    "b_act=np.random.randn(1,1)\n",
    "y_train=np.dot(W1_act.T,x_train)+b_act+np.dot(W2_act.T,x_train**2)"
   ]
  },
  {
   "cell_type": "code",
   "execution_count": 4,
   "id": "4a1943bf",
   "metadata": {
    "execution": {
     "iopub.execute_input": "2021-08-18T14:23:32.696587Z",
     "iopub.status.busy": "2021-08-18T14:23:32.695493Z",
     "iopub.status.idle": "2021-08-18T14:23:32.698249Z",
     "shell.execute_reply": "2021-08-18T14:23:32.699280Z",
     "shell.execute_reply.started": "2021-08-18T14:21:41.779847Z"
    },
    "papermill": {
     "duration": 0.031034,
     "end_time": "2021-08-18T14:23:32.699584",
     "exception": false,
     "start_time": "2021-08-18T14:23:32.668550",
     "status": "completed"
    },
    "tags": []
   },
   "outputs": [],
   "source": [
    "def compute_loss(y, y_pred):\n",
    "    loss = 1 / 2 * np.mean((y_pred - y)**2)\n",
    "    return loss"
   ]
  },
  {
   "cell_type": "code",
   "execution_count": 5,
   "id": "f937dd24",
   "metadata": {
    "execution": {
     "iopub.execute_input": "2021-08-18T14:23:32.746763Z",
     "iopub.status.busy": "2021-08-18T14:23:32.745685Z",
     "iopub.status.idle": "2021-08-18T14:23:32.748381Z",
     "shell.execute_reply": "2021-08-18T14:23:32.749366Z",
     "shell.execute_reply.started": "2021-08-18T14:21:43.044376Z"
    },
    "papermill": {
     "duration": 0.030111,
     "end_time": "2021-08-18T14:23:32.749639",
     "exception": false,
     "start_time": "2021-08-18T14:23:32.719528",
     "status": "completed"
    },
    "tags": []
   },
   "outputs": [],
   "source": [
    "def second_input(x_train):\n",
    "    return x_train**2\n",
    "squared=second_input(x_train)"
   ]
  },
  {
   "cell_type": "code",
   "execution_count": 6,
   "id": "a699c358",
   "metadata": {
    "execution": {
     "iopub.execute_input": "2021-08-18T14:23:32.788261Z",
     "iopub.status.busy": "2021-08-18T14:23:32.787534Z",
     "iopub.status.idle": "2021-08-18T14:23:32.789899Z",
     "shell.execute_reply": "2021-08-18T14:23:32.789263Z",
     "shell.execute_reply.started": "2021-08-18T14:21:44.408635Z"
    },
    "papermill": {
     "duration": 0.020499,
     "end_time": "2021-08-18T14:23:32.790054",
     "exception": false,
     "start_time": "2021-08-18T14:23:32.769555",
     "status": "completed"
    },
    "tags": []
   },
   "outputs": [],
   "source": [
    "def derivative(y_true,y_pred):\n",
    "    return (-4)*((y_true-y_pred)**3)"
   ]
  },
  {
   "cell_type": "code",
   "execution_count": 7,
   "id": "9744fef6",
   "metadata": {
    "execution": {
     "iopub.execute_input": "2021-08-18T14:23:32.816557Z",
     "iopub.status.busy": "2021-08-18T14:23:32.815885Z",
     "iopub.status.idle": "2021-08-18T14:23:32.820260Z",
     "shell.execute_reply": "2021-08-18T14:23:32.820793Z",
     "shell.execute_reply.started": "2021-08-18T14:21:46.173654Z"
    },
    "papermill": {
     "duration": 0.019435,
     "end_time": "2021-08-18T14:23:32.820968",
     "exception": false,
     "start_time": "2021-08-18T14:23:32.801533",
     "status": "completed"
    },
    "tags": []
   },
   "outputs": [],
   "source": [
    "\n",
    "W1=np.random.randn(num_features,1)\n",
    "W2=np.random.randn(num_features,1)\n",
    "b=np.random.randn(1,1)"
   ]
  },
  {
   "cell_type": "code",
   "execution_count": 8,
   "id": "548d5e75",
   "metadata": {
    "execution": {
     "iopub.execute_input": "2021-08-18T14:23:32.847307Z",
     "iopub.status.busy": "2021-08-18T14:23:32.846674Z",
     "iopub.status.idle": "2021-08-18T14:23:41.194778Z",
     "shell.execute_reply": "2021-08-18T14:23:41.195765Z",
     "shell.execute_reply.started": "2021-08-18T14:21:47.604080Z"
    },
    "papermill": {
     "duration": 8.363385,
     "end_time": "2021-08-18T14:23:41.196082",
     "exception": false,
     "start_time": "2021-08-18T14:23:32.832697",
     "status": "completed"
    },
    "tags": []
   },
   "outputs": [],
   "source": [
    "losses=[]\n",
    "for i in range(0,EPOCHS):\n",
    "        preds=np.dot(W1.T,x_train)+np.dot(W2.T,squared)+b\n",
    "        dZ=derivative(y_train,preds)\n",
    "        W1_grad=((np.dot(x_train,dZ.T)))/M\n",
    "        W2_grad=((np.dot(squared,dZ.T)))/M\n",
    "        b_grad=(1/M)*(np.sum(dZ))\n",
    "        W1=W1-learning_rate*W1_grad\n",
    "        W2=W2-learning_rate*W2_grad\n",
    "        b=b-learning_rate*b_grad\n",
    "        loss=compute_loss(y_train,preds)\n",
    "        losses.append(loss)"
   ]
  },
  {
   "cell_type": "code",
   "execution_count": 9,
   "id": "0468e1fe",
   "metadata": {
    "execution": {
     "iopub.execute_input": "2021-08-18T14:23:41.247998Z",
     "iopub.status.busy": "2021-08-18T14:23:41.246859Z",
     "iopub.status.idle": "2021-08-18T14:23:41.593179Z",
     "shell.execute_reply": "2021-08-18T14:23:41.592120Z",
     "shell.execute_reply.started": "2021-08-18T14:21:56.845863Z"
    },
    "papermill": {
     "duration": 0.377118,
     "end_time": "2021-08-18T14:23:41.593373",
     "exception": false,
     "start_time": "2021-08-18T14:23:41.216255",
     "status": "completed"
    },
    "tags": []
   },
   "outputs": [
    {
     "data": {
      "image/png": "[encoded data removed]",
      "text/plain": [
       "<Figure size 432x288 with 1 Axes>"
      ]
     },
     "metadata": {
      "needs_background": "light"
     },
     "output_type": "display_data"
    }
   ],
   "source": [
    "x=list(range(1,EPOCHS+1))\n",
    "y=losses\n",
    "plt.plot(x, y)\n",
    "  \n",
    "# naming the x axis\n",
    "plt.xlabel('x - axis')\n",
    "# naming the y axis\n",
    "plt.ylabel('y - axis')\n",
    "  \n",
    "# giving a title to my graph\n",
    "plt.title('Loss as function of Epochs')\n",
    "  \n",
    "# function to show the plot\n",
    "plt.show()"
   ]
  },
  {
   "cell_type": "code",
   "execution_count": 10,
   "id": "b003071d",
   "metadata": {
    "execution": {
     "iopub.execute_input": "2021-08-18T14:23:41.625156Z",
     "iopub.status.busy": "2021-08-18T14:23:41.624527Z",
     "iopub.status.idle": "2021-08-18T14:23:41.628013Z",
     "shell.execute_reply": "2021-08-18T14:23:41.627518Z",
     "shell.execute_reply.started": "2021-08-18T14:22:00.135013Z"
    },
    "papermill": {
     "duration": 0.021215,
     "end_time": "2021-08-18T14:23:41.628161",
     "exception": false,
     "start_time": "2021-08-18T14:23:41.606946",
     "status": "completed"
    },
    "tags": []
   },
   "outputs": [
    {
     "data": {
      "text/plain": [
       "0.025462507218449934"
      ]
     },
     "execution_count": 10,
     "metadata": {},
     "output_type": "execute_result"
    }
   ],
   "source": [
    "losses[-1]"
   ]
  },
  {
   "cell_type": "code",
   "execution_count": 11,
   "id": "799374d1",
   "metadata": {
    "execution": {
     "iopub.execute_input": "2021-08-18T14:23:41.676459Z",
     "iopub.status.busy": "2021-08-18T14:23:41.675026Z",
     "iopub.status.idle": "2021-08-18T14:23:41.813644Z",
     "shell.execute_reply": "2021-08-18T14:23:41.813061Z",
     "shell.execute_reply.started": "2021-08-18T14:22:45.835001Z"
    },
    "papermill": {
     "duration": 0.172612,
     "end_time": "2021-08-18T14:23:41.813816",
     "exception": false,
     "start_time": "2021-08-18T14:23:41.641204",
     "status": "completed"
    },
    "tags": []
   },
   "outputs": [
    {
     "data": {
      "image/png": "[encoded data removed]",
      "text/plain": [
       "<Figure size 432x288 with 1 Axes>"
      ]
     },
     "metadata": {
      "needs_background": "light"
     },
     "output_type": "display_data"
    }
   ],
   "source": [
    "x=list(range(1,11+1))\n",
    "plt.plot(x, W1_act.tolist(), 'r') \n",
    "plt.plot(x, W1.tolist(), 'b')  \n",
    "plt.show()"
   ]
  },
  {
   "cell_type": "code",
   "execution_count": 12,
   "id": "bdddd2b5",
   "metadata": {
    "execution": {
     "iopub.execute_input": "2021-08-18T14:23:41.872533Z",
     "iopub.status.busy": "2021-08-18T14:23:41.870558Z",
     "iopub.status.idle": "2021-08-18T14:23:41.991369Z",
     "shell.execute_reply": "2021-08-18T14:23:41.990775Z",
     "shell.execute_reply.started": "2021-08-18T14:22:48.267464Z"
    },
    "papermill": {
     "duration": 0.162845,
     "end_time": "2021-08-18T14:23:41.991529",
     "exception": false,
     "start_time": "2021-08-18T14:23:41.828684",
     "status": "completed"
    },
    "tags": []
   },
   "outputs": [
    {
     "data": {
      "image/png": "[encoded data removed]",
      "text/plain": [
       "<Figure size 432x288 with 1 Axes>"
      ]
     },
     "metadata": {
      "needs_background": "light"
     },
     "output_type": "display_data"
    }
   ],
   "source": [
    "x=list(range(1,11+1))\n",
    "plt.plot(x, W2_act.tolist(), 'r') \n",
    "plt.plot(x, W2.tolist(), 'b') \n",
    "plt.show()"
   ]
  }
 ],
 "metadata": {
  "kernelspec": {
   "display_name": "Python 3",
   "language": "python",
   "name": "python3"
  },
  "language_info": {
   "codemirror_mode": {
    "name": "ipython",
    "version": 3
   },
   "file_extension": ".py",
   "mimetype": "text/x-python",
   "name": "python",
   "nbconvert_exporter": "python",
   "pygments_lexer": "ipython3",
   "version": "3.7.10"
  },
  "papermill": {
   "default_parameters": {},
   "duration": 19.96518,
   "end_time": "2021-08-18T14:23:43.458594",
   "environment_variables": {},
   "exception": null,
   "input_path": "__notebook__.ipynb",
   "output_path": "__notebook__.ipynb",
   "parameters": {},
   "start_time": "2021-08-18T14:23:23.493414",
   "version": "2.3.3"
  }
 },
 "nbformat": 4,
 "nbformat_minor": 5
}
